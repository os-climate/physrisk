{
 "cells": [
  {
   "cell_type": "markdown",
   "metadata": {},
   "source": [
    "## Case study: modelling impact of climate risk on cement plants"
   ]
  },
  {
   "cell_type": "code",
   "execution_count": null,
   "metadata": {},
   "outputs": [],
   "source": [
    "# pip install nbformat pandas plotly requests\n",
    "# import nest_asyncio\n",
    "# nest_asyncio.apply()"
   ]
  },
  {
   "cell_type": "code",
   "execution_count": null,
   "metadata": {},
   "outputs": [],
   "source": [
    "import json\n",
    "\n",
    "import plotly.io\n",
    "\n",
    "plotly.io.renderers.default = \"notebook\"\n",
    "\n",
    "from dependency_injector import providers\n",
    "from physrisk.container import Container\n",
    "from physrisk.vulnerability_models.vulnerability import VulnerabilityModelsFactory\n",
    "from physrisk.vulnerability_models.config_based_impact_curves import (\n",
    "    config_items_from_csv,\n",
    ")"
   ]
  },
  {
   "cell_type": "markdown",
   "metadata": {},
   "source": [
    "Define a portfolio. The \"type\" attribute can be used to define an arbitrary scheme to capture categories of assets, matching the vulnerability configuration. "
   ]
  },
  {
   "cell_type": "code",
   "execution_count": 2,
   "metadata": {},
   "outputs": [],
   "source": [
    "portfolio = {\n",
    "    \"items\": [\n",
    "        {\n",
    "            \"asset_class\": \"ManufacturingAsset\",\n",
    "            \"type\": \"CementPlant\",\n",
    "            \"latitude\": 24.0426,\n",
    "            \"longitude\": 91.0158,\n",
    "        },\n",
    "        {\n",
    "            \"asset_class\": \"ManufacturingAsset\",\n",
    "            \"type\": \"CementPlant\",\n",
    "            \"latitude\": 22.6588,\n",
    "            \"longitude\": 90.3373,\n",
    "        },\n",
    "    ]\n",
    "}\n",
    "request = {\n",
    "    \"assets\": portfolio,\n",
    "    \"include_asset_level\": True,\n",
    "    \"include_calc_details\": True,\n",
    "    \"include_measures\": False,\n",
    "    \"years\": [2050],\n",
    "    \"scenario\": \"ssp585\",\n",
    "}"
   ]
  },
  {
   "cell_type": "markdown",
   "metadata": {},
   "source": [
    "Configuration can be defined programmatically, but is also intended to be maintained in CSV format. Here we write the config line to CSV and read back again. In practise, a file of config lines can be maintained. "
   ]
  },
  {
   "cell_type": "code",
   "execution_count": 3,
   "metadata": {},
   "outputs": [],
   "source": [
    "config_items = config_items_from_csv(\"cement_plants_example_config.csv\")"
   ]
  },
  {
   "cell_type": "markdown",
   "metadata": {},
   "source": [
    "Having defined the configuration the calculation is run. Dependency injection is used to apply the custom configuration. "
   ]
  },
  {
   "cell_type": "code",
   "execution_count": 5,
   "metadata": {},
   "outputs": [],
   "source": [
    "# we make use of dependency injection to inject a vulnerability model that accepts the configuration.\n",
    "container = Container()\n",
    "container.override_providers(\n",
    "    vulnerability_models_factory=providers.Factory(\n",
    "        VulnerabilityModelsFactory, config=config_items\n",
    "    )\n",
    ")\n",
    "requester = container.requester()\n",
    "response = json.loads(\n",
    "    requester.get(request_id=\"get_asset_impact\", request_dict=request)\n",
    ")"
   ]
  },
  {
   "cell_type": "code",
   "execution_count": null,
   "metadata": {},
   "outputs": [],
   "source": []
  }
 ],
 "metadata": {
  "kernelspec": {
   "display_name": ".venv",
   "language": "python",
   "name": "python3"
  },
  "language_info": {
   "codemirror_mode": {
    "name": "ipython",
    "version": 3
   },
   "file_extension": ".py",
   "mimetype": "text/x-python",
   "name": "python",
   "nbconvert_exporter": "python",
   "pygments_lexer": "ipython3",
   "version": "3.10.15"
  }
 },
 "nbformat": 4,
 "nbformat_minor": 2
}
