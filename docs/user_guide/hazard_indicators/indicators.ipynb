{
 "cells": [
  {
   "cell_type": "markdown",
   "metadata": {},
   "source": [
    "# Hazard indicators and conventions\n",
    "\n",
    "Note that the xarray library already defines a convention for storing DataArrays as Zarr arrays.\n",
    "https://docs.xarray.dev/en/latest/generated/xarray.Dataset.to_zarr.html\n",
    "In this convention, the \n",
    "\n",
    "https://docs.xarray.dev/en/latest/user-guide/terminology.html#term-Indexed-coordinate"
   ]
  },
  {
   "cell_type": "code",
   "execution_count": 18,
   "metadata": {},
   "outputs": [],
   "source": [
    "import os\n",
    "from dotenv import load_dotenv\n",
    "import s3fs\n",
    "\n",
    "load_dotenv(\"../../../credentials.env\")\n",
    "\n",
    "bucket = os.environ.get(\"OSC_S3_BUCKET\")\n",
    "s3 = s3fs.S3FileSystem(\n",
    "    key=os.environ.get(\"OSC_S3_ACCESS_KEY\", None),\n",
    "    secret=os.environ.get(\"OSC_S3_SECRET_KEY\", None),\n",
    ")"
   ]
  },
  {
   "cell_type": "code",
   "execution_count": 19,
   "metadata": {},
   "outputs": [
    {
     "data": {
      "text/plain": [
       "['physrisk-hazard-indicators/hazard', 'physrisk-hazard-indicators/hazard_test']"
      ]
     },
     "execution_count": 19,
     "metadata": {},
     "output_type": "execute_result"
    }
   ],
   "source": [
    "s3.ls(bucket)"
   ]
  }
 ],
 "metadata": {
  "kernelspec": {
   "display_name": ".venv",
   "language": "python",
   "name": "python3"
  },
  "language_info": {
   "codemirror_mode": {
    "name": "ipython",
    "version": 3
   },
   "file_extension": ".py",
   "mimetype": "text/x-python",
   "name": "python",
   "nbconvert_exporter": "python",
   "pygments_lexer": "ipython3",
   "version": "3.10.15"
  }
 },
 "nbformat": 4,
 "nbformat_minor": 2
}
