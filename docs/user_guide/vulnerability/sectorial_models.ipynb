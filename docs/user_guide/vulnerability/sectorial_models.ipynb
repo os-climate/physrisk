{
 "cells": [
  {
   "cell_type": "markdown",
   "metadata": {},
   "source": [
    "# Sectorial models\n",
    "\n",
    "Sectorial modelling is the modelling of physical climate risk for sectors of economic activity. Different classifications exist; for example within the European Union, NACE codes are defined https://ec.europa.eu/eurostat/web/metadata/classifications.\n",
    "It is assumed that the properties of the assets of a particular sector and region are not known in detail; the intent is rather to assign suitable vulnerability functions for the types of asset, the types being defined at a relatively coarse granularity.\n",
    "\n",
    "Sectorial models are suitable for:\n",
    "- Comparative analyses (e.g. identification of most at-risk sectors/regions).\n",
    "- Bottom-up quantitative estimates of impact on entities (e.g. companies) within a sector.\n",
    "\n",
    "Within `physrisk` sectorial models are defined in terms of the asset class, a 'type' field that provides a relatively\n",
    "coarse-granularity classification and a 'location' field.\n",
    "\n",
    "Sectorial models are relevant to the subsequent sections that deal with inferring vulnerability functions from various sources.  "
   ]
  }
 ],
 "metadata": {
  "kernelspec": {
   "display_name": ".venv",
   "language": "python",
   "name": "python3"
  },
  "language_info": {
   "name": "python",
   "version": "3.10.15"
  }
 },
 "nbformat": 4,
 "nbformat_minor": 2
}
