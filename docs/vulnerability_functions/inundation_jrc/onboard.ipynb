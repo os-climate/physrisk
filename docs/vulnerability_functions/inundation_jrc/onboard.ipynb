{
 "cells": [
  {
   "cell_type": "markdown",
   "metadata": {},
   "source": [
    "## EU JRC global flood depth-damage functions\n",
    "\n",
    "### CITATION\n",
    "Huizinga, J., De Moel, H. and Szewczyk, W., Global flood depth-damage functions: Methodology and the database with guidelines, EUR 28552 EN, Publications Office of the European Union, Luxembourg, 2017, ISBN 978-92-79-67781-6, doi:10.2760/16510, JRC105688.\n",
    "\n",
    "### LINK\n",
    "https://publications.jrc.ec.europa.eu/repository/handle/JRC105688\n",
    "\n",
    "### NOTES\n",
    "Data from copy_of_global_flood_depth-damage_functions__30102017.xlsx converted into CSV format in raw.csv. Ingested into vulnerability model as standard json.\n"
   ]
  },
  {
   "cell_type": "code",
   "execution_count": 1,
   "metadata": {},
   "outputs": [],
   "source": [
    "import json\n",
    "import numpy as np\n",
    "import pandas as pd\n",
    "\n",
    "df = pd.read_csv(\"raw.csv\")\n",
    "\n",
    "# consistent with physrisk continent definition\n",
    "location_mappings = {\n",
    "    \"Europe\": \"Europe\",\n",
    "    \"North America\": \"North America\",\n",
    "    \"Central & South America\": \"South America\",\n",
    "    \"Asia\": \"Asia\",\n",
    "    \"Africa\": \"Africa\",\n",
    "    \"Oceania\": \"Oceania\",\n",
    "    \"Global\": \"Global\",\n",
    "}\n",
    "type_mappings = {\n",
    "    \"Residential buildings\": \"Buildings/Residential\",\n",
    "    \"Commercial buildings\": \"Buildings/Commercial\",\n",
    "    \"Industrial buildings\": \"Buildings/Industrial\",\n",
    "}\n",
    "\n",
    "data = {\"items\": []}\n",
    "\n",
    "curve_list = data[\"items\"]\n",
    "for mapping in type_mappings:\n",
    "    type_df = df[df[\"Type\"] == mapping]\n",
    "    flood_depth = type_df[\"Flood depth [m]\"].to_numpy()\n",
    "    for location in location_mappings:\n",
    "        # whether zero depth is considered really zero or a flood event with smallest depth\n",
    "        zero_as_minimum = True if location == \"North America\" else False\n",
    "        # for North America, the 0 depth damage is for flooding of any depth. We consider that a 1 cm inundation.\n",
    "        depth = np.concatenate([[0, 0.01], flood_depth[1:]]) if zero_as_minimum else flood_depth\n",
    "\n",
    "        mean = type_df[location + \"_Mean\"].to_numpy()\n",
    "        std = type_df[location + \"_Std\"].to_numpy()\n",
    "        mean = np.concatenate([[0], mean]) if zero_as_minimum else mean\n",
    "        std = np.concatenate([[0], std]) if zero_as_minimum else std\n",
    "        if np.any(np.isnan(mean)):\n",
    "            mean = []\n",
    "        if np.any(np.isnan(std)):\n",
    "            std = []\n",
    "        curve_list.append(\n",
    "            {\n",
    "                \"asset_type\": type_mappings[mapping],\n",
    "                \"event_type\": \"RiverineInundation\",\n",
    "                \"location\": location_mappings[location],\n",
    "                \"impact_type\": \"Damage\",\n",
    "                \"intensity\": list(depth),\n",
    "                \"intensity_units\": \"m\",\n",
    "                \"impact_mean\": list(mean),\n",
    "                \"impact_std\": list(std),\n",
    "            }\n",
    "        )\n",
    "\n",
    "with open(\"EU JRC global flood depth-damage functions.json\", \"w\") as f:\n",
    "    vulnerability_json = json.dumps(data, sort_keys=True, indent=4)\n",
    "    f.write(vulnerability_json)"
   ]
  },
  {
   "cell_type": "code",
   "execution_count": null,
   "metadata": {},
   "outputs": [],
   "source": []
  }
 ],
 "metadata": {
  "interpreter": {
   "hash": "916dbcbb3f70747c44a77c7bcd40155683ae19c65e1c03b4aa3499c5328201f1"
  },
  "kernelspec": {
   "display_name": "Python 3.8.10 64-bit",
   "language": "python",
   "name": "python3"
  },
  "language_info": {
   "codemirror_mode": {
    "name": "ipython",
    "version": 3
   },
   "file_extension": ".py",
   "mimetype": "text/x-python",
   "name": "python",
   "nbconvert_exporter": "python",
   "pygments_lexer": "ipython3",
   "version": "3.8.2"
  },
  "orig_nbformat": 4
 },
 "nbformat": 4,
 "nbformat_minor": 2
}
