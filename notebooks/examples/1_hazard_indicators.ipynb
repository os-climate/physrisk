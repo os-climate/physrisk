{
 "cells": [
  {
   "cell_type": "markdown",
   "metadata": {},
   "source": [
    "## Hazard indicators\n",
    "Physrisk is primarily designed to run 'bottom-up' calculations that model the impact of climate hazards on large numbers of individual assets (including natural) and operations. These calculations can be used to assess financial risks or socio-economic impacts. To do this physrisk collects:\n",
    "\n",
    "- hazard indicators and\n",
    "- models of vulnerability of assets/operations to hazards.\n",
    "\n",
    "Hazard indicators – that is, quantities that provide the information about hazards needed by the vulnerability models – are collected from a variety of sources. OS-Climate consolidates public domain hazard indicators and also provides the means to combine these with commercial data.\n",
    "\n",
    "We start with public domain indicators: which ones are available and how can these be obtained?"
   ]
  },
  {
   "cell_type": "markdown",
   "metadata": {},
   "source": [
    "#### Requesting hazard indicators via the physrisk API\n",
    "\n",
    "Using physrisk, hazard indicators can be obtained directly from source, as long as the user has the necessary API keys. Alternatively, the API – which is simply a hosted instance of physrisk – can be used, albeit the number of requests will be restricted to 30,000 latitudes and longitudes.\n",
    "\n",
    "We give a walk-through of the hazard indicator API below, as well as examples of how to obtain the inventory of available hazard indicators."
   ]
  },
  {
   "cell_type": "code",
   "execution_count": null,
   "metadata": {
    "vscode": {
     "languageId": "shellscript"
    }
   },
   "outputs": [],
   "source": [
    "# UNCOMMENT TO RUN THIS NOTEBOOK\n",
    "# pip install nbformat pandas plotly requests\n",
    "\n",
    "# UNCOMMENT TO RUN THE SECOND PART OF THIS NOTEBOOK:\n",
    "# pip install physrisk-lib\n",
    "\n",
    "import plotly.graph_objs as go\n",
    "import pprint as pp\n",
    "import requests\n",
    "\n",
    "from dotenv import load_dotenv\n",
    "from IPython.display import Markdown, display\n",
    "from physrisk.container import Container\n",
    "from plotly.subplots import make_subplots"
   ]
  },
  {
   "cell_type": "code",
   "execution_count": 2,
   "metadata": {},
   "outputs": [],
   "source": [
    "base_url = \"https://physrisk-api2-sandbox.apps.odh-cl1.apps.os-climate.org/api/\"\n",
    "\n",
    "request = {\n",
    "    \"items\": [\n",
    "        {\n",
    "            \"longitudes\": [69.4787, 68.71, 20.1047, 19.8936, 19.6359, 0.5407, 6.9366, 6.935, 13.7319, 13.7319],\n",
    "            \"latitudes\": [34.556, 35.9416, 39.9116, 41.6796, 42.0137, 35.7835, 36.8789, 36.88, -12.4706, -12.4706],\n",
    "            \"request_item_id\": \"my_flood_request\",\n",
    "            \"hazard_type\": \"RiverineInundation\",\n",
    "            \"indicator_id\": \"flood_depth\",\n",
    "            \"scenario\": \"historical\",\n",
    "            \"year\": 1980,\n",
    "        },\n",
    "        {\n",
    "            \"longitudes\": [69.4787, 68.71, 20.1047, 19.8936, 19.6359, 0.5407, 6.9366, 6.935, 13.7319, 13.7319],\n",
    "            \"latitudes\": [34.556, 35.9416, 39.9116, 41.6796, 42.0137, 35.7835, 36.8789, 36.88, -12.4706, -12.4706],\n",
    "            \"request_item_id\": \"my_flood_request\",\n",
    "            \"hazard_type\": \"RiverineInundation\",\n",
    "            \"indicator_id\": \"flood_depth\",\n",
    "            \"scenario\": \"rcp8p5\",\n",
    "            \"indicator_model_gcm\": \"NorESM1-M\",  # optional: can specify\n",
    "            \"year\": 2050,\n",
    "        },\n",
    "        {\n",
    "            \"longitudes\": [114.089],\n",
    "            \"latitudes\": [22.4781],\n",
    "            \"request_item_id\": \"my_wind_request_ssp585\",\n",
    "            \"hazard_type\": \"Wind\",\n",
    "            \"indicator_id\": \"max_speed\",\n",
    "            \"scenario\": \"historical\",\n",
    "            \"path\": \"wind/iris/v1/max_speed_{scenario}_{year}\",\n",
    "            # if path is specified then that particular data array is used\n",
    "            \"year\": 2010,\n",
    "        },\n",
    "        {\n",
    "            \"longitudes\": [114.089],\n",
    "            \"latitudes\": [22.4781],\n",
    "            \"request_item_id\": \"my_wind_request_histo\",\n",
    "            \"hazard_type\": \"Wind\",\n",
    "            \"indicator_id\": \"max_speed\",\n",
    "            \"scenario\": \"ssp585\",\n",
    "            \"path\": \"wind/iris/v1/max_speed_{scenario}_{year}\",\n",
    "            \"year\": 2050,\n",
    "        },\n",
    "        {\n",
    "            \"longitudes\": [114.089],\n",
    "            \"latitudes\": [22.4781],\n",
    "            \"request_item_id\": \"my_fire_request\",\n",
    "            \"hazard_type\": \"Fire\",\n",
    "            \"indicator_id\": \"fire_probability\",\n",
    "            \"scenario\": \"ssp585\",\n",
    "            \"path\": \"fire/jupiter/v1/fire_probability_{scenario}_{year}\",\n",
    "            \"year\": 2040,\n",
    "        },\n",
    "    ]\n",
    "}\n",
    "url = base_url + \"get_hazard_data\"\n",
    "response = requests.post(url, json=request).json()\n",
    "flood_results_baseline, flood_results_rcp585 = (\n",
    "    response[\"items\"][0][\"intensity_curve_set\"],\n",
    "    response[\"items\"][1][\"intensity_curve_set\"],\n",
    ")\n",
    "wind_results_baseline, wind_results_ssp585 = (\n",
    "    response[\"items\"][2][\"intensity_curve_set\"],\n",
    "    response[\"items\"][3][\"intensity_curve_set\"],\n",
    ")\n",
    "fire_results = response[\"items\"][4][\"intensity_curve_set\"]"
   ]
  },
  {
   "cell_type": "code",
   "execution_count": 4,
   "metadata": {},
   "outputs": [
    {
     "data": {
      "application/vnd.plotly.v1+json": {
       "config": {
        "plotlyServerURL": "https://plot.ly"
       },
       "data": [
        {
         "name": "baseline flood",
         "type": "scatter",
         "x": [
          2,
          5,
          10,
          25,
          50,
          100,
          250,
          500,
          1000
         ],
         "xaxis": "x",
         "y": [
          0,
          0.24315482378005981,
          0.40180158615112305,
          0.5969884395599365,
          0.7376832962036133,
          0.8727496862411499,
          1.0505859851837158,
          1.1848692893981934,
          1.3172094821929932
         ],
         "yaxis": "y"
        },
        {
         "name": "flood RCP 8.5 2050",
         "type": "scatter",
         "x": [
          2,
          5,
          10,
          25,
          50,
          100,
          250,
          500,
          1000
         ],
         "xaxis": "x",
         "y": [
          0.03016260266304016,
          0.3154944181442261,
          0.5021084547042847,
          0.7294760942459106,
          0.8911455869674683,
          1.0516209602355957,
          1.2618706226348877,
          1.4183039665222168,
          1.571667194366455
         ],
         "yaxis": "y"
        },
        {
         "name": "baseline wind",
         "type": "scatter",
         "x": [
          10,
          20,
          30,
          40,
          50,
          60,
          70,
          80,
          90,
          100,
          200,
          300,
          400,
          500,
          600,
          700,
          800,
          900,
          1000
         ],
         "xaxis": "x2",
         "y": [
          34.16875076293945,
          40.48125076293945,
          44.493751525878906,
          46.98125076293945,
          48.53125,
          49.849998474121094,
          51.20000076293945,
          52.243751525878906,
          52.79999923706055,
          53.51874923706055,
          57.400001525878906,
          59.875,
          60.95624923706055,
          61.79999923706055,
          62.431251525878906,
          62.8125,
          62.9375,
          63.58124923706055,
          64.4625015258789
         ],
         "yaxis": "y2"
        },
        {
         "name": "wind SSP585 2050",
         "type": "scatter",
         "x": [
          10,
          20,
          30,
          40,
          50,
          60,
          70,
          80,
          90,
          100,
          200,
          300,
          400,
          500,
          600,
          700,
          800,
          900,
          1000
         ],
         "xaxis": "x2",
         "y": [
          37.224998474121094,
          44.76874923706055,
          48.63750076293945,
          51.66875076293945,
          53.5,
          55.23749923706055,
          56.20000076293945,
          57.23125076293945,
          58.368751525878906,
          59.17499923706055,
          63.11249923706055,
          65.3125,
          66.2125015258789,
          67.1624984741211,
          67.7125015258789,
          67.9749984741211,
          68.23750305175781,
          69.07499694824219,
          71.19999694824219
         ],
         "yaxis": "y2"
        }
       ],
       "layout": {
        "template": {
         "data": {
          "bar": [
           {
            "error_x": {
             "color": "#2a3f5f"
            },
            "error_y": {
             "color": "#2a3f5f"
            },
            "marker": {
             "line": {
              "color": "#E5ECF6",
              "width": 0.5
             },
             "pattern": {
              "fillmode": "overlay",
              "size": 10,
              "solidity": 0.2
             }
            },
            "type": "bar"
           }
          ],
          "barpolar": [
           {
            "marker": {
             "line": {
              "color": "#E5ECF6",
              "width": 0.5
             },
             "pattern": {
              "fillmode": "overlay",
              "size": 10,
              "solidity": 0.2
             }
            },
            "type": "barpolar"
           }
          ],
          "carpet": [
           {
            "aaxis": {
             "endlinecolor": "#2a3f5f",
             "gridcolor": "white",
             "linecolor": "white",
             "minorgridcolor": "white",
             "startlinecolor": "#2a3f5f"
            },
            "baxis": {
             "endlinecolor": "#2a3f5f",
             "gridcolor": "white",
             "linecolor": "white",
             "minorgridcolor": "white",
             "startlinecolor": "#2a3f5f"
            },
            "type": "carpet"
           }
          ],
          "choropleth": [
           {
            "colorbar": {
             "outlinewidth": 0,
             "ticks": ""
            },
            "type": "choropleth"
           }
          ],
          "contour": [
           {
            "colorbar": {
             "outlinewidth": 0,
             "ticks": ""
            },
            "colorscale": [
             [
              0,
              "#0d0887"
             ],
             [
              0.1111111111111111,
              "#46039f"
             ],
             [
              0.2222222222222222,
              "#7201a8"
             ],
             [
              0.3333333333333333,
              "#9c179e"
             ],
             [
              0.4444444444444444,
              "#bd3786"
             ],
             [
              0.5555555555555556,
              "#d8576b"
             ],
             [
              0.6666666666666666,
              "#ed7953"
             ],
             [
              0.7777777777777778,
              "#fb9f3a"
             ],
             [
              0.8888888888888888,
              "#fdca26"
             ],
             [
              1,
              "#f0f921"
             ]
            ],
            "type": "contour"
           }
          ],
          "contourcarpet": [
           {
            "colorbar": {
             "outlinewidth": 0,
             "ticks": ""
            },
            "type": "contourcarpet"
           }
          ],
          "heatmap": [
           {
            "colorbar": {
             "outlinewidth": 0,
             "ticks": ""
            },
            "colorscale": [
             [
              0,
              "#0d0887"
             ],
             [
              0.1111111111111111,
              "#46039f"
             ],
             [
              0.2222222222222222,
              "#7201a8"
             ],
             [
              0.3333333333333333,
              "#9c179e"
             ],
             [
              0.4444444444444444,
              "#bd3786"
             ],
             [
              0.5555555555555556,
              "#d8576b"
             ],
             [
              0.6666666666666666,
              "#ed7953"
             ],
             [
              0.7777777777777778,
              "#fb9f3a"
             ],
             [
              0.8888888888888888,
              "#fdca26"
             ],
             [
              1,
              "#f0f921"
             ]
            ],
            "type": "heatmap"
           }
          ],
          "heatmapgl": [
           {
            "colorbar": {
             "outlinewidth": 0,
             "ticks": ""
            },
            "colorscale": [
             [
              0,
              "#0d0887"
             ],
             [
              0.1111111111111111,
              "#46039f"
             ],
             [
              0.2222222222222222,
              "#7201a8"
             ],
             [
              0.3333333333333333,
              "#9c179e"
             ],
             [
              0.4444444444444444,
              "#bd3786"
             ],
             [
              0.5555555555555556,
              "#d8576b"
             ],
             [
              0.6666666666666666,
              "#ed7953"
             ],
             [
              0.7777777777777778,
              "#fb9f3a"
             ],
             [
              0.8888888888888888,
              "#fdca26"
             ],
             [
              1,
              "#f0f921"
             ]
            ],
            "type": "heatmapgl"
           }
          ],
          "histogram": [
           {
            "marker": {
             "pattern": {
              "fillmode": "overlay",
              "size": 10,
              "solidity": 0.2
             }
            },
            "type": "histogram"
           }
          ],
          "histogram2d": [
           {
            "colorbar": {
             "outlinewidth": 0,
             "ticks": ""
            },
            "colorscale": [
             [
              0,
              "#0d0887"
             ],
             [
              0.1111111111111111,
              "#46039f"
             ],
             [
              0.2222222222222222,
              "#7201a8"
             ],
             [
              0.3333333333333333,
              "#9c179e"
             ],
             [
              0.4444444444444444,
              "#bd3786"
             ],
             [
              0.5555555555555556,
              "#d8576b"
             ],
             [
              0.6666666666666666,
              "#ed7953"
             ],
             [
              0.7777777777777778,
              "#fb9f3a"
             ],
             [
              0.8888888888888888,
              "#fdca26"
             ],
             [
              1,
              "#f0f921"
             ]
            ],
            "type": "histogram2d"
           }
          ],
          "histogram2dcontour": [
           {
            "colorbar": {
             "outlinewidth": 0,
             "ticks": ""
            },
            "colorscale": [
             [
              0,
              "#0d0887"
             ],
             [
              0.1111111111111111,
              "#46039f"
             ],
             [
              0.2222222222222222,
              "#7201a8"
             ],
             [
              0.3333333333333333,
              "#9c179e"
             ],
             [
              0.4444444444444444,
              "#bd3786"
             ],
             [
              0.5555555555555556,
              "#d8576b"
             ],
             [
              0.6666666666666666,
              "#ed7953"
             ],
             [
              0.7777777777777778,
              "#fb9f3a"
             ],
             [
              0.8888888888888888,
              "#fdca26"
             ],
             [
              1,
              "#f0f921"
             ]
            ],
            "type": "histogram2dcontour"
           }
          ],
          "mesh3d": [
           {
            "colorbar": {
             "outlinewidth": 0,
             "ticks": ""
            },
            "type": "mesh3d"
           }
          ],
          "parcoords": [
           {
            "line": {
             "colorbar": {
              "outlinewidth": 0,
              "ticks": ""
             }
            },
            "type": "parcoords"
           }
          ],
          "pie": [
           {
            "automargin": true,
            "type": "pie"
           }
          ],
          "scatter": [
           {
            "fillpattern": {
             "fillmode": "overlay",
             "size": 10,
             "solidity": 0.2
            },
            "type": "scatter"
           }
          ],
          "scatter3d": [
           {
            "line": {
             "colorbar": {
              "outlinewidth": 0,
              "ticks": ""
             }
            },
            "marker": {
             "colorbar": {
              "outlinewidth": 0,
              "ticks": ""
             }
            },
            "type": "scatter3d"
           }
          ],
          "scattercarpet": [
           {
            "marker": {
             "colorbar": {
              "outlinewidth": 0,
              "ticks": ""
             }
            },
            "type": "scattercarpet"
           }
          ],
          "scattergeo": [
           {
            "marker": {
             "colorbar": {
              "outlinewidth": 0,
              "ticks": ""
             }
            },
            "type": "scattergeo"
           }
          ],
          "scattergl": [
           {
            "marker": {
             "colorbar": {
              "outlinewidth": 0,
              "ticks": ""
             }
            },
            "type": "scattergl"
           }
          ],
          "scattermapbox": [
           {
            "marker": {
             "colorbar": {
              "outlinewidth": 0,
              "ticks": ""
             }
            },
            "type": "scattermapbox"
           }
          ],
          "scatterpolar": [
           {
            "marker": {
             "colorbar": {
              "outlinewidth": 0,
              "ticks": ""
             }
            },
            "type": "scatterpolar"
           }
          ],
          "scatterpolargl": [
           {
            "marker": {
             "colorbar": {
              "outlinewidth": 0,
              "ticks": ""
             }
            },
            "type": "scatterpolargl"
           }
          ],
          "scatterternary": [
           {
            "marker": {
             "colorbar": {
              "outlinewidth": 0,
              "ticks": ""
             }
            },
            "type": "scatterternary"
           }
          ],
          "surface": [
           {
            "colorbar": {
             "outlinewidth": 0,
             "ticks": ""
            },
            "colorscale": [
             [
              0,
              "#0d0887"
             ],
             [
              0.1111111111111111,
              "#46039f"
             ],
             [
              0.2222222222222222,
              "#7201a8"
             ],
             [
              0.3333333333333333,
              "#9c179e"
             ],
             [
              0.4444444444444444,
              "#bd3786"
             ],
             [
              0.5555555555555556,
              "#d8576b"
             ],
             [
              0.6666666666666666,
              "#ed7953"
             ],
             [
              0.7777777777777778,
              "#fb9f3a"
             ],
             [
              0.8888888888888888,
              "#fdca26"
             ],
             [
              1,
              "#f0f921"
             ]
            ],
            "type": "surface"
           }
          ],
          "table": [
           {
            "cells": {
             "fill": {
              "color": "#EBF0F8"
             },
             "line": {
              "color": "white"
             }
            },
            "header": {
             "fill": {
              "color": "#C8D4E3"
             },
             "line": {
              "color": "white"
             }
            },
            "type": "table"
           }
          ]
         },
         "layout": {
          "annotationdefaults": {
           "arrowcolor": "#2a3f5f",
           "arrowhead": 0,
           "arrowwidth": 1
          },
          "autotypenumbers": "strict",
          "coloraxis": {
           "colorbar": {
            "outlinewidth": 0,
            "ticks": ""
           }
          },
          "colorscale": {
           "diverging": [
            [
             0,
             "#8e0152"
            ],
            [
             0.1,
             "#c51b7d"
            ],
            [
             0.2,
             "#de77ae"
            ],
            [
             0.3,
             "#f1b6da"
            ],
            [
             0.4,
             "#fde0ef"
            ],
            [
             0.5,
             "#f7f7f7"
            ],
            [
             0.6,
             "#e6f5d0"
            ],
            [
             0.7,
             "#b8e186"
            ],
            [
             0.8,
             "#7fbc41"
            ],
            [
             0.9,
             "#4d9221"
            ],
            [
             1,
             "#276419"
            ]
           ],
           "sequential": [
            [
             0,
             "#0d0887"
            ],
            [
             0.1111111111111111,
             "#46039f"
            ],
            [
             0.2222222222222222,
             "#7201a8"
            ],
            [
             0.3333333333333333,
             "#9c179e"
            ],
            [
             0.4444444444444444,
             "#bd3786"
            ],
            [
             0.5555555555555556,
             "#d8576b"
            ],
            [
             0.6666666666666666,
             "#ed7953"
            ],
            [
             0.7777777777777778,
             "#fb9f3a"
            ],
            [
             0.8888888888888888,
             "#fdca26"
            ],
            [
             1,
             "#f0f921"
            ]
           ],
           "sequentialminus": [
            [
             0,
             "#0d0887"
            ],
            [
             0.1111111111111111,
             "#46039f"
            ],
            [
             0.2222222222222222,
             "#7201a8"
            ],
            [
             0.3333333333333333,
             "#9c179e"
            ],
            [
             0.4444444444444444,
             "#bd3786"
            ],
            [
             0.5555555555555556,
             "#d8576b"
            ],
            [
             0.6666666666666666,
             "#ed7953"
            ],
            [
             0.7777777777777778,
             "#fb9f3a"
            ],
            [
             0.8888888888888888,
             "#fdca26"
            ],
            [
             1,
             "#f0f921"
            ]
           ]
          },
          "colorway": [
           "#636efa",
           "#EF553B",
           "#00cc96",
           "#ab63fa",
           "#FFA15A",
           "#19d3f3",
           "#FF6692",
           "#B6E880",
           "#FF97FF",
           "#FECB52"
          ],
          "font": {
           "color": "#2a3f5f"
          },
          "geo": {
           "bgcolor": "white",
           "lakecolor": "white",
           "landcolor": "#E5ECF6",
           "showlakes": true,
           "showland": true,
           "subunitcolor": "white"
          },
          "hoverlabel": {
           "align": "left"
          },
          "hovermode": "closest",
          "mapbox": {
           "style": "light"
          },
          "paper_bgcolor": "white",
          "plot_bgcolor": "#E5ECF6",
          "polar": {
           "angularaxis": {
            "gridcolor": "white",
            "linecolor": "white",
            "ticks": ""
           },
           "bgcolor": "#E5ECF6",
           "radialaxis": {
            "gridcolor": "white",
            "linecolor": "white",
            "ticks": ""
           }
          },
          "scene": {
           "xaxis": {
            "backgroundcolor": "#E5ECF6",
            "gridcolor": "white",
            "gridwidth": 2,
            "linecolor": "white",
            "showbackground": true,
            "ticks": "",
            "zerolinecolor": "white"
           },
           "yaxis": {
            "backgroundcolor": "#E5ECF6",
            "gridcolor": "white",
            "gridwidth": 2,
            "linecolor": "white",
            "showbackground": true,
            "ticks": "",
            "zerolinecolor": "white"
           },
           "zaxis": {
            "backgroundcolor": "#E5ECF6",
            "gridcolor": "white",
            "gridwidth": 2,
            "linecolor": "white",
            "showbackground": true,
            "ticks": "",
            "zerolinecolor": "white"
           }
          },
          "shapedefaults": {
           "line": {
            "color": "#2a3f5f"
           }
          },
          "ternary": {
           "aaxis": {
            "gridcolor": "white",
            "linecolor": "white",
            "ticks": ""
           },
           "baxis": {
            "gridcolor": "white",
            "linecolor": "white",
            "ticks": ""
           },
           "bgcolor": "#E5ECF6",
           "caxis": {
            "gridcolor": "white",
            "linecolor": "white",
            "ticks": ""
           }
          },
          "title": {
           "x": 0.05
          },
          "xaxis": {
           "automargin": true,
           "gridcolor": "white",
           "linecolor": "white",
           "ticks": "",
           "title": {
            "standoff": 15
           },
           "zerolinecolor": "white",
           "zerolinewidth": 2
          },
          "yaxis": {
           "automargin": true,
           "gridcolor": "white",
           "linecolor": "white",
           "ticks": "",
           "title": {
            "standoff": 15
           },
           "zerolinecolor": "white",
           "zerolinewidth": 2
          }
         }
        },
        "xaxis": {
         "anchor": "y",
         "domain": [
          0,
          0.45
         ],
         "title": {
          "font": {
           "size": 14
          },
          "text": "Return period (years)"
         },
         "type": "log"
        },
        "xaxis2": {
         "anchor": "y2",
         "domain": [
          0.55,
          1
         ],
         "title": {
          "font": {
           "size": 14
          },
          "text": "Return period (years)"
         },
         "type": "log"
        },
        "yaxis": {
         "anchor": "x",
         "domain": [
          0,
          1
         ],
         "title": {
          "font": {
           "size": 14
          },
          "text": "Flood depth (m)"
         }
        },
        "yaxis2": {
         "anchor": "x2",
         "domain": [
          0,
          1
         ],
         "title": {
          "font": {
           "size": 14
          },
          "text": "Max (1 minute) wind speed (m/s)"
         }
        }
       }
      }
     },
     "metadata": {},
     "output_type": "display_data"
    }
   ],
   "source": [
    "fig1 = make_subplots(rows=1, cols=2)\n",
    "fig1.add_trace(\n",
    "    go.Scatter(\n",
    "        x=flood_results_baseline[0][\"index_values\"], y=flood_results_baseline[0][\"intensities\"], name=\"baseline flood\"\n",
    "    ),\n",
    "    row=1,\n",
    "    col=1,\n",
    ")\n",
    "fig1.add_trace(\n",
    "    go.Scatter(\n",
    "        x=flood_results_rcp585[0][\"index_values\"], y=flood_results_rcp585[0][\"intensities\"], name=\"flood RCP 8.5 2050\"\n",
    "    ),\n",
    "    row=1,\n",
    "    col=1,\n",
    ")\n",
    "fig1.update_xaxes(title=\"Return period (years)\", title_font={\"size\": 14}, row=1, col=1, type=\"log\")\n",
    "fig1.update_yaxes(title=\"Flood depth (m)\", title_font={\"size\": 14}, row=1, col=1)\n",
    "fig1.add_trace(\n",
    "    go.Scatter(\n",
    "        x=wind_results_baseline[0][\"index_values\"], y=wind_results_baseline[0][\"intensities\"], name=\"baseline wind\"\n",
    "    ),\n",
    "    row=1,\n",
    "    col=2,\n",
    ")\n",
    "fig1.add_trace(\n",
    "    go.Scatter(\n",
    "        x=wind_results_ssp585[0][\"index_values\"], y=wind_results_ssp585[0][\"intensities\"], name=\"wind SSP585 2050\"\n",
    "    ),\n",
    "    row=1,\n",
    "    col=2,\n",
    ")\n",
    "fig1.update_xaxes(title=\"Return period (years)\", title_font={\"size\": 14}, row=1, col=2, type=\"log\")\n",
    "fig1.update_yaxes(title=\"Max (1 minute) wind speed (m/s)\", title_font={\"size\": 14}, row=1, col=2)"
   ]
  },
  {
   "cell_type": "markdown",
   "metadata": {},
   "source": [
    "### Accessing the inventory of hazard indicators\n",
    "\n",
    "Hazard indicator data are 3 dimensional arrays, the dimensions being ('index', 'spatial y', 'spatial x'). In the case of a EPSG:4326 co-ordinate reference system (CRS), for example, this would be ('index', 'latitude', 'longitude'). The data can be in any (CRS); generally the CRS of the original CRS is retained. API requests specify location via latitude and longitude and physrisk performs the necessary conversion.\n",
    "\n",
    "The 'index' depends on the nature of the hazards. For acute hazards – potential occurrence of events such as flood or tropical cyclone – 'index' will be the return period of the event. For chronic hazards its definition can vary. Chronic hazard indicators may be threshold-based, for example 'mean degree days per year above threshold' or 'mean days per year above temperature threshold'; in these cases 'index' gives the thresholds. Chronic hazards may comprise just a single value (e.g. annual probability of fire) in which case there is just a single element in 'index'.    \n",
    "\n",
    "The inventory is a list of 'hazard resources' and each resource corresponds to a single array. This means that there are separate entries for the same hazard indicators inferred from different (e.g. CMIP6 or CORDEX) climate models.\n",
    "\n",
    "For the requests above, the 'path' of the array can be specified explicitly. This is the unique identifier for the hazard resource. But path can also be omitted in which can physrisk applies a set of rules to select a particular array. "
   ]
  },
  {
   "cell_type": "code",
   "execution_count": 6,
   "metadata": {},
   "outputs": [],
   "source": [
    "url = base_url + \"get_hazard_data_availability\"\n",
    "hazard_resources = requests.post(url, json=request).json()[\"models\"]"
   ]
  },
  {
   "cell_type": "code",
   "execution_count": 7,
   "metadata": {},
   "outputs": [
    {
     "name": "stdout",
     "output_type": "stream",
     "text": [
      "Hazards: {'CoastalInundation', 'Precipitation', 'CombinedInundation', 'RiverineInundation', 'Wind', 'Drought', 'ChronicHeat', 'Hail', 'WaterRisk', 'Fire'}\n",
      "119 hazard resources in the inventory, of which 2 are Wind hazard resources.\n",
      "The resource 'path' is a unique identifier. For the IRIS Wind resource, for example, this is: 'wind/iris/v1/max_speed_{scenario}_{year}'.\n",
      "Where resources are multi-dimensional arrays (as opposed to an external API), this is also the path of the array.\n",
      "The available climate scenarios and years for the IRIS resource are:\n",
      "[{'id': 'historical', 'years': [2010]},\n",
      " {'id': 'ssp119', 'years': [2050]},\n",
      " {'id': 'ssp245', 'years': [2050]},\n",
      " {'id': 'ssp585', 'years': [2050]}]\n",
      "A description is provided in markdown:\n"
     ]
    },
    {
     "data": {
      "text/markdown": [
       "Assessing tropical cyclone risk on a global scale given the infrequency of landfalling tropical cyclones and the short period of reliable observations remains a challenge. Synthetic tropical cyclone datasets can help overcome these problems. Here we present a new global dataset created by IRIS, the ImpeRIal college Storm Model. IRIS is novel because, unlike other synthetic TC models, it only simulates the decay from the point of lifetime maximum intensity. This minimises the bias in the dataset. It takes input from 42 years of observed tropical cyclones and creates a 10,000 year synthetic dataset which is then validated against the observations. IRIS captures important statistical characteristics of the observed data. The return periods of the landfall maximum wind speed (1 minute sustained in m/s) are realistic globally. Climate model projections are used to adjust the life-time maximum intensity.\n",
       "https://www.imperial.ac.uk/grantham/research/climate-science/modelling-tropical-cyclones/\n"
      ],
      "text/plain": [
       "<IPython.core.display.Markdown object>"
      ]
     },
     "metadata": {},
     "output_type": "display_data"
    },
    {
     "name": "stdout",
     "output_type": "stream",
     "text": [
      "The whole resource:\n",
      "{'description': 'Assessing tropical cyclone risk on a global scale given the '\n",
      "                'infrequency of landfalling tropical cyclones and the short '\n",
      "                'period of reliable observations remains a challenge. '\n",
      "                'Synthetic tropical cyclone datasets can help overcome these '\n",
      "                'problems. Here we present a new global dataset created by '\n",
      "                'IRIS, the ImpeRIal college Storm Model. IRIS is novel '\n",
      "                'because, unlike other synthetic TC models, it only simulates '\n",
      "                'the decay from the point of lifetime maximum intensity. This '\n",
      "                'minimises the bias in the dataset. It takes input from 42 '\n",
      "                'years of observed tropical cyclones and creates a 10,000 year '\n",
      "                'synthetic dataset which is then validated against the '\n",
      "                'observations. IRIS captures important statistical '\n",
      "                'characteristics of the observed data. The return periods of '\n",
      "                'the landfall maximum wind speed (1 minute sustained in m/s) '\n",
      "                'are realistic globally. Climate model projections are used to '\n",
      "                'adjust the life-time maximum intensity.\\n'\n",
      "                'https://www.imperial.ac.uk/grantham/research/climate-science/modelling-tropical-cyclones/\\n',\n",
      " 'display_groups': [],\n",
      " 'display_name': 'Max wind speed (IRIS)',\n",
      " 'group_id': 'iris_osc',\n",
      " 'hazard_type': 'Wind',\n",
      " 'indicator_id': 'max_speed',\n",
      " 'indicator_model_gcm': 'combined',\n",
      " 'indicator_model_id': None,\n",
      " 'map': {'bounds': [[-180.0, 60.0],\n",
      "                    [180.0, 60.0],\n",
      "                    [180.0, -60.0],\n",
      "                    [-180.0, -60.0]],\n",
      "         'colormap': {'max_index': 255,\n",
      "                      'max_value': 120.0,\n",
      "                      'min_index': 1,\n",
      "                      'min_value': 0.0,\n",
      "                      'name': 'heating',\n",
      "                      'nodata_index': 0,\n",
      "                      'units': 'm/s'},\n",
      "         'path': 'wind/iris/v1/max_speed_{scenario}_{year}_map',\n",
      "         'source': 'map_array_pyramid'},\n",
      " 'params': {},\n",
      " 'path': 'wind/iris/v1/max_speed_{scenario}_{year}',\n",
      " 'scenarios': [{'id': 'historical', 'years': [2010]},\n",
      "               {'id': 'ssp119', 'years': [2050]},\n",
      "               {'id': 'ssp245', 'years': [2050]},\n",
      "               {'id': 'ssp585', 'years': [2050]}],\n",
      " 'units': 'm/s'}\n"
     ]
    }
   ],
   "source": [
    "def printmd(string):\n",
    "    display(Markdown(string))\n",
    "\n",
    "\n",
    "hazard_types = set(r[\"hazard_type\"] for r in hazard_resources)\n",
    "print(f\"Hazards: {hazard_types}\")\n",
    "wind_resources = [r for r in hazard_resources if r[\"hazard_type\"] == \"Wind\"]\n",
    "print(f\"{len(hazard_resources)} hazard resources in the inventory, of which {len(wind_resources)} are Wind resources.\")\n",
    "iris_model_resource = next(r for r in wind_resources if \"iris\" in r[\"path\"])\n",
    "# pp.pprint(iris_model_resource[0])\n",
    "path = iris_model_resource[\"path\"]\n",
    "print(f\"The resource 'path' is a unique identifier. For the IRIS Wind resource, for example, this is: '{path}'.\")\n",
    "print(\n",
    "    \"Where resources are multi-dimensional arrays (as opposed to an external API), this is also the path of the array.\"\n",
    ")\n",
    "print(\"The available climate scenarios and years for the IRIS resource are:\")\n",
    "pp.pprint(iris_model_resource[\"scenarios\"])\n",
    "print(\"A description is provided in markdown:\")\n",
    "printmd(iris_model_resource[\"description\"])\n",
    "print(\"The whole resource:\")\n",
    "pp.pprint(iris_model_resource)"
   ]
  },
  {
   "cell_type": "markdown",
   "metadata": {},
   "source": [
    "#### Requesting hazard indicators through physrisk directly\n",
    "\n",
    "As mentioned above, the API is simply using a hosted version of physrisk and it is possible to run the same calculations using physrisk directly, as long as the necessary API keys are present in a credentials.env file.\n",
    "\n",
    "The requests above can be run in physrisk using a Requester object."
   ]
  },
  {
   "cell_type": "code",
   "execution_count": null,
   "metadata": {},
   "outputs": [],
   "source": [
    "load_dotenv(\"../../credentials.env\")\n",
    "# the container is a dependency injection container,\n",
    "# which allows the calculation to be configured to a particular use-case\n",
    "container = Container()\n",
    "# the requester is used to run calculations using the API.\n",
    "# At this point, we can of course debug into the code and modify as required.\n",
    "requester = container.requester()\n",
    "result = requester.get(request_id=\"get_hazard_data\", request_dict=request)"
   ]
  }
 ],
 "metadata": {
  "kernelspec": {
   "display_name": "Python 3",
   "language": "python",
   "name": "python3"
  },
  "language_info": {
   "codemirror_mode": {
    "name": "ipython",
    "version": 3
   },
   "file_extension": ".py",
   "mimetype": "text/x-python",
   "name": "python",
   "nbconvert_exporter": "python",
   "pygments_lexer": "ipython3",
   "version": "3.8.2"
  }
 },
 "nbformat": 4,
 "nbformat_minor": 2
}
