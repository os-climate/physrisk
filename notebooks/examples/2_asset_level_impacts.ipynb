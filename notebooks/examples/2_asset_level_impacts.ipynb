{
 "cells": [
  {
   "cell_type": "markdown",
   "metadata": {},
   "source": [
    "## Asset-level impact calculations\n",
    "Here 'asset-level' impacts means the impact of hazards on each asset in a portfolio, taken in isolation. This is, as opposed to portfolio-level impacts where the asset impacts are aggregated together – a topic for another notebook.\n",
    "\n",
    "### Obtaining impact distributions for a portfolio of assets"
   ]
  },
  {
   "cell_type": "code",
   "execution_count": null,
   "metadata": {
    "vscode": {
     "languageId": "shellscript"
    }
   },
   "outputs": [],
   "source": [
    "pip install nbformat pandas plotly requests"
   ]
  },
  {
   "cell_type": "code",
   "execution_count": 2,
   "metadata": {},
   "outputs": [],
   "source": [
    "import requests\n",
    "\n",
    "base_url = \"https://physrisk-api2-sandbox.apps.odh-cl1.apps.os-climate.org/api/\"\n",
    "\n",
    "portfolio = {\n",
    "    \"items\": [\n",
    "        {\n",
    "            \"asset_class\": \"RealEstateAsset\",\n",
    "            \"type\": \"Building/Industrial\",\n",
    "            \"location\": \"Asia\",\n",
    "            \"latitude\": 24.0426,\n",
    "            \"longitude\": 91.0158,\n",
    "        },\n",
    "        {\n",
    "            \"asset_class\": \"RealEstateAsset\",\n",
    "            \"type\": \"Building/Industrial\",\n",
    "            \"location\": \"Asia\",\n",
    "            \"latitude\": 22.6588,\n",
    "            \"longitude\": 90.3373,\n",
    "        },\n",
    "    ]\n",
    "}\n",
    "request = {\n",
    "    \"assets\": portfolio,\n",
    "    \"include_asset_level\": True,\n",
    "    \"include_calc_details\": True,\n",
    "    \"include_measures\": True,\n",
    "    \"years\": [2050],\n",
    "    \"scenario\": \"ssp585\",\n",
    "}\n",
    "\n",
    "url = base_url + \"get_asset_impact\"\n",
    "response = requests.post(url, json=request).json()"
   ]
  },
  {
   "cell_type": "code",
   "execution_count": 3,
   "metadata": {},
   "outputs": [],
   "source": [
    "from typing import NamedTuple\n",
    "\n",
    "asset0_impacts = response[\"asset_impacts\"][1][\"impacts\"]\n",
    "\n",
    "\n",
    "class Key(NamedTuple):\n",
    "    hazard_type: str\n",
    "    scenario_id: str\n",
    "    year: str\n",
    "\n",
    "\n",
    "asset0_impact_dict = {}\n",
    "for i in asset0_impacts:\n",
    "    key = i[\"key\"]\n",
    "    asset0_impact_dict[Key(key[\"hazard_type\"], key[\"scenario_id\"], key[\"year\"])] = i\n",
    "\n",
    "hazard_types = set(k.hazard_type for k in asset0_impact_dict.keys())\n",
    "wind_impact_histo = asset0_impact_dict[Key(\"Wind\", \"historical\", \"None\")]\n",
    "wind_impact_ssp585 = asset0_impact_dict[Key(\"Wind\", \"ssp585\", \"2050\")]"
   ]
  },
  {
   "cell_type": "code",
   "execution_count": 5,
   "metadata": {},
   "outputs": [
    {
     "data": {
      "application/vnd.plotly.v1+json": {
       "config": {
        "plotlyServerURL": "https://plot.ly"
       },
       "data": [
        {
         "name": "baseline wind",
         "type": "scatter",
         "x": [
          0.04900000000000001,
          0.03233333333333334,
          0.024000000000000004,
          0.019000000000000003,
          0.01566666666666667,
          0.013285714285714286,
          0.011500000000000002,
          0.010111111111111112,
          0.009000000000000001,
          0.004,
          0.0023333333333333335,
          0.0015,
          0.001,
          0.0006666666666666668,
          0.00042857142857142855,
          0.00025,
          0.00011111111111111109,
          0
         ],
         "xaxis": "x",
         "y": [
          0.0004863306300282079,
          0.0032202045740822743,
          0.010735442202008984,
          0.016996661463623993,
          0.02155590325614915,
          0.028485761901396834,
          0.041850456280047466,
          0.05007404596694858,
          0.059701685162724984,
          0.11332636752166708,
          0.16591577789151649,
          0.20183716992148243,
          0.23152412925689597,
          0.26220139356582195,
          0.279007730852783,
          0.29570799814905474,
          0.307745842586294,
          0.3217969471882758
         ],
         "yaxis": "y"
        },
        {
         "name": "wind SSP585",
         "type": "scatter",
         "x": [
          0.099,
          0.04900000000000001,
          0.03233333333333334,
          0.024000000000000004,
          0.019000000000000003,
          0.01566666666666667,
          0.013285714285714286,
          0.011500000000000002,
          0.010111111111111112,
          0.009000000000000001,
          0.004,
          0.0023333333333333335,
          0.0015,
          0.001,
          0.0006666666666666668,
          0.00042857142857142855,
          0.00025,
          0.00011111111111111109,
          0
         ],
         "xaxis": "x",
         "y": [
          7.682019883172996e-05,
          0.0005583812056975454,
          0.008825685603841983,
          0.017046757981196484,
          0.023436186553044146,
          0.0396124241720199,
          0.0560279993842828,
          0.07006830117541162,
          0.08194450719972869,
          0.09264894302678975,
          0.1933473153228637,
          0.25481157725696824,
          0.3041005921318781,
          0.3238739140242556,
          0.34008684145476864,
          0.3628907252701525,
          0.3693335717289997,
          0.3823038619319513,
          0.39510456950344713
         ],
         "yaxis": "y"
        }
       ],
       "layout": {
        "template": {
         "data": {
          "bar": [
           {
            "error_x": {
             "color": "#2a3f5f"
            },
            "error_y": {
             "color": "#2a3f5f"
            },
            "marker": {
             "line": {
              "color": "#E5ECF6",
              "width": 0.5
             },
             "pattern": {
              "fillmode": "overlay",
              "size": 10,
              "solidity": 0.2
             }
            },
            "type": "bar"
           }
          ],
          "barpolar": [
           {
            "marker": {
             "line": {
              "color": "#E5ECF6",
              "width": 0.5
             },
             "pattern": {
              "fillmode": "overlay",
              "size": 10,
              "solidity": 0.2
             }
            },
            "type": "barpolar"
           }
          ],
          "carpet": [
           {
            "aaxis": {
             "endlinecolor": "#2a3f5f",
             "gridcolor": "white",
             "linecolor": "white",
             "minorgridcolor": "white",
             "startlinecolor": "#2a3f5f"
            },
            "baxis": {
             "endlinecolor": "#2a3f5f",
             "gridcolor": "white",
             "linecolor": "white",
             "minorgridcolor": "white",
             "startlinecolor": "#2a3f5f"
            },
            "type": "carpet"
           }
          ],
          "choropleth": [
           {
            "colorbar": {
             "outlinewidth": 0,
             "ticks": ""
            },
            "type": "choropleth"
           }
          ],
          "contour": [
           {
            "colorbar": {
             "outlinewidth": 0,
             "ticks": ""
            },
            "colorscale": [
             [
              0,
              "#0d0887"
             ],
             [
              0.1111111111111111,
              "#46039f"
             ],
             [
              0.2222222222222222,
              "#7201a8"
             ],
             [
              0.3333333333333333,
              "#9c179e"
             ],
             [
              0.4444444444444444,
              "#bd3786"
             ],
             [
              0.5555555555555556,
              "#d8576b"
             ],
             [
              0.6666666666666666,
              "#ed7953"
             ],
             [
              0.7777777777777778,
              "#fb9f3a"
             ],
             [
              0.8888888888888888,
              "#fdca26"
             ],
             [
              1,
              "#f0f921"
             ]
            ],
            "type": "contour"
           }
          ],
          "contourcarpet": [
           {
            "colorbar": {
             "outlinewidth": 0,
             "ticks": ""
            },
            "type": "contourcarpet"
           }
          ],
          "heatmap": [
           {
            "colorbar": {
             "outlinewidth": 0,
             "ticks": ""
            },
            "colorscale": [
             [
              0,
              "#0d0887"
             ],
             [
              0.1111111111111111,
              "#46039f"
             ],
             [
              0.2222222222222222,
              "#7201a8"
             ],
             [
              0.3333333333333333,
              "#9c179e"
             ],
             [
              0.4444444444444444,
              "#bd3786"
             ],
             [
              0.5555555555555556,
              "#d8576b"
             ],
             [
              0.6666666666666666,
              "#ed7953"
             ],
             [
              0.7777777777777778,
              "#fb9f3a"
             ],
             [
              0.8888888888888888,
              "#fdca26"
             ],
             [
              1,
              "#f0f921"
             ]
            ],
            "type": "heatmap"
           }
          ],
          "heatmapgl": [
           {
            "colorbar": {
             "outlinewidth": 0,
             "ticks": ""
            },
            "colorscale": [
             [
              0,
              "#0d0887"
             ],
             [
              0.1111111111111111,
              "#46039f"
             ],
             [
              0.2222222222222222,
              "#7201a8"
             ],
             [
              0.3333333333333333,
              "#9c179e"
             ],
             [
              0.4444444444444444,
              "#bd3786"
             ],
             [
              0.5555555555555556,
              "#d8576b"
             ],
             [
              0.6666666666666666,
              "#ed7953"
             ],
             [
              0.7777777777777778,
              "#fb9f3a"
             ],
             [
              0.8888888888888888,
              "#fdca26"
             ],
             [
              1,
              "#f0f921"
             ]
            ],
            "type": "heatmapgl"
           }
          ],
          "histogram": [
           {
            "marker": {
             "pattern": {
              "fillmode": "overlay",
              "size": 10,
              "solidity": 0.2
             }
            },
            "type": "histogram"
           }
          ],
          "histogram2d": [
           {
            "colorbar": {
             "outlinewidth": 0,
             "ticks": ""
            },
            "colorscale": [
             [
              0,
              "#0d0887"
             ],
             [
              0.1111111111111111,
              "#46039f"
             ],
             [
              0.2222222222222222,
              "#7201a8"
             ],
             [
              0.3333333333333333,
              "#9c179e"
             ],
             [
              0.4444444444444444,
              "#bd3786"
             ],
             [
              0.5555555555555556,
              "#d8576b"
             ],
             [
              0.6666666666666666,
              "#ed7953"
             ],
             [
              0.7777777777777778,
              "#fb9f3a"
             ],
             [
              0.8888888888888888,
              "#fdca26"
             ],
             [
              1,
              "#f0f921"
             ]
            ],
            "type": "histogram2d"
           }
          ],
          "histogram2dcontour": [
           {
            "colorbar": {
             "outlinewidth": 0,
             "ticks": ""
            },
            "colorscale": [
             [
              0,
              "#0d0887"
             ],
             [
              0.1111111111111111,
              "#46039f"
             ],
             [
              0.2222222222222222,
              "#7201a8"
             ],
             [
              0.3333333333333333,
              "#9c179e"
             ],
             [
              0.4444444444444444,
              "#bd3786"
             ],
             [
              0.5555555555555556,
              "#d8576b"
             ],
             [
              0.6666666666666666,
              "#ed7953"
             ],
             [
              0.7777777777777778,
              "#fb9f3a"
             ],
             [
              0.8888888888888888,
              "#fdca26"
             ],
             [
              1,
              "#f0f921"
             ]
            ],
            "type": "histogram2dcontour"
           }
          ],
          "mesh3d": [
           {
            "colorbar": {
             "outlinewidth": 0,
             "ticks": ""
            },
            "type": "mesh3d"
           }
          ],
          "parcoords": [
           {
            "line": {
             "colorbar": {
              "outlinewidth": 0,
              "ticks": ""
             }
            },
            "type": "parcoords"
           }
          ],
          "pie": [
           {
            "automargin": true,
            "type": "pie"
           }
          ],
          "scatter": [
           {
            "fillpattern": {
             "fillmode": "overlay",
             "size": 10,
             "solidity": 0.2
            },
            "type": "scatter"
           }
          ],
          "scatter3d": [
           {
            "line": {
             "colorbar": {
              "outlinewidth": 0,
              "ticks": ""
             }
            },
            "marker": {
             "colorbar": {
              "outlinewidth": 0,
              "ticks": ""
             }
            },
            "type": "scatter3d"
           }
          ],
          "scattercarpet": [
           {
            "marker": {
             "colorbar": {
              "outlinewidth": 0,
              "ticks": ""
             }
            },
            "type": "scattercarpet"
           }
          ],
          "scattergeo": [
           {
            "marker": {
             "colorbar": {
              "outlinewidth": 0,
              "ticks": ""
             }
            },
            "type": "scattergeo"
           }
          ],
          "scattergl": [
           {
            "marker": {
             "colorbar": {
              "outlinewidth": 0,
              "ticks": ""
             }
            },
            "type": "scattergl"
           }
          ],
          "scattermapbox": [
           {
            "marker": {
             "colorbar": {
              "outlinewidth": 0,
              "ticks": ""
             }
            },
            "type": "scattermapbox"
           }
          ],
          "scatterpolar": [
           {
            "marker": {
             "colorbar": {
              "outlinewidth": 0,
              "ticks": ""
             }
            },
            "type": "scatterpolar"
           }
          ],
          "scatterpolargl": [
           {
            "marker": {
             "colorbar": {
              "outlinewidth": 0,
              "ticks": ""
             }
            },
            "type": "scatterpolargl"
           }
          ],
          "scatterternary": [
           {
            "marker": {
             "colorbar": {
              "outlinewidth": 0,
              "ticks": ""
             }
            },
            "type": "scatterternary"
           }
          ],
          "surface": [
           {
            "colorbar": {
             "outlinewidth": 0,
             "ticks": ""
            },
            "colorscale": [
             [
              0,
              "#0d0887"
             ],
             [
              0.1111111111111111,
              "#46039f"
             ],
             [
              0.2222222222222222,
              "#7201a8"
             ],
             [
              0.3333333333333333,
              "#9c179e"
             ],
             [
              0.4444444444444444,
              "#bd3786"
             ],
             [
              0.5555555555555556,
              "#d8576b"
             ],
             [
              0.6666666666666666,
              "#ed7953"
             ],
             [
              0.7777777777777778,
              "#fb9f3a"
             ],
             [
              0.8888888888888888,
              "#fdca26"
             ],
             [
              1,
              "#f0f921"
             ]
            ],
            "type": "surface"
           }
          ],
          "table": [
           {
            "cells": {
             "fill": {
              "color": "#EBF0F8"
             },
             "line": {
              "color": "white"
             }
            },
            "header": {
             "fill": {
              "color": "#C8D4E3"
             },
             "line": {
              "color": "white"
             }
            },
            "type": "table"
           }
          ]
         },
         "layout": {
          "annotationdefaults": {
           "arrowcolor": "#2a3f5f",
           "arrowhead": 0,
           "arrowwidth": 1
          },
          "autotypenumbers": "strict",
          "coloraxis": {
           "colorbar": {
            "outlinewidth": 0,
            "ticks": ""
           }
          },
          "colorscale": {
           "diverging": [
            [
             0,
             "#8e0152"
            ],
            [
             0.1,
             "#c51b7d"
            ],
            [
             0.2,
             "#de77ae"
            ],
            [
             0.3,
             "#f1b6da"
            ],
            [
             0.4,
             "#fde0ef"
            ],
            [
             0.5,
             "#f7f7f7"
            ],
            [
             0.6,
             "#e6f5d0"
            ],
            [
             0.7,
             "#b8e186"
            ],
            [
             0.8,
             "#7fbc41"
            ],
            [
             0.9,
             "#4d9221"
            ],
            [
             1,
             "#276419"
            ]
           ],
           "sequential": [
            [
             0,
             "#0d0887"
            ],
            [
             0.1111111111111111,
             "#46039f"
            ],
            [
             0.2222222222222222,
             "#7201a8"
            ],
            [
             0.3333333333333333,
             "#9c179e"
            ],
            [
             0.4444444444444444,
             "#bd3786"
            ],
            [
             0.5555555555555556,
             "#d8576b"
            ],
            [
             0.6666666666666666,
             "#ed7953"
            ],
            [
             0.7777777777777778,
             "#fb9f3a"
            ],
            [
             0.8888888888888888,
             "#fdca26"
            ],
            [
             1,
             "#f0f921"
            ]
           ],
           "sequentialminus": [
            [
             0,
             "#0d0887"
            ],
            [
             0.1111111111111111,
             "#46039f"
            ],
            [
             0.2222222222222222,
             "#7201a8"
            ],
            [
             0.3333333333333333,
             "#9c179e"
            ],
            [
             0.4444444444444444,
             "#bd3786"
            ],
            [
             0.5555555555555556,
             "#d8576b"
            ],
            [
             0.6666666666666666,
             "#ed7953"
            ],
            [
             0.7777777777777778,
             "#fb9f3a"
            ],
            [
             0.8888888888888888,
             "#fdca26"
            ],
            [
             1,
             "#f0f921"
            ]
           ]
          },
          "colorway": [
           "#636efa",
           "#EF553B",
           "#00cc96",
           "#ab63fa",
           "#FFA15A",
           "#19d3f3",
           "#FF6692",
           "#B6E880",
           "#FF97FF",
           "#FECB52"
          ],
          "font": {
           "color": "#2a3f5f"
          },
          "geo": {
           "bgcolor": "white",
           "lakecolor": "white",
           "landcolor": "#E5ECF6",
           "showlakes": true,
           "showland": true,
           "subunitcolor": "white"
          },
          "hoverlabel": {
           "align": "left"
          },
          "hovermode": "closest",
          "mapbox": {
           "style": "light"
          },
          "paper_bgcolor": "white",
          "plot_bgcolor": "#E5ECF6",
          "polar": {
           "angularaxis": {
            "gridcolor": "white",
            "linecolor": "white",
            "ticks": ""
           },
           "bgcolor": "#E5ECF6",
           "radialaxis": {
            "gridcolor": "white",
            "linecolor": "white",
            "ticks": ""
           }
          },
          "scene": {
           "xaxis": {
            "backgroundcolor": "#E5ECF6",
            "gridcolor": "white",
            "gridwidth": 2,
            "linecolor": "white",
            "showbackground": true,
            "ticks": "",
            "zerolinecolor": "white"
           },
           "yaxis": {
            "backgroundcolor": "#E5ECF6",
            "gridcolor": "white",
            "gridwidth": 2,
            "linecolor": "white",
            "showbackground": true,
            "ticks": "",
            "zerolinecolor": "white"
           },
           "zaxis": {
            "backgroundcolor": "#E5ECF6",
            "gridcolor": "white",
            "gridwidth": 2,
            "linecolor": "white",
            "showbackground": true,
            "ticks": "",
            "zerolinecolor": "white"
           }
          },
          "shapedefaults": {
           "line": {
            "color": "#2a3f5f"
           }
          },
          "ternary": {
           "aaxis": {
            "gridcolor": "white",
            "linecolor": "white",
            "ticks": ""
           },
           "baxis": {
            "gridcolor": "white",
            "linecolor": "white",
            "ticks": ""
           },
           "bgcolor": "#E5ECF6",
           "caxis": {
            "gridcolor": "white",
            "linecolor": "white",
            "ticks": ""
           }
          },
          "title": {
           "x": 0.05
          },
          "xaxis": {
           "automargin": true,
           "gridcolor": "white",
           "linecolor": "white",
           "ticks": "",
           "title": {
            "standoff": 15
           },
           "zerolinecolor": "white",
           "zerolinewidth": 2
          },
          "yaxis": {
           "automargin": true,
           "gridcolor": "white",
           "linecolor": "white",
           "ticks": "",
           "title": {
            "standoff": 15
           },
           "zerolinecolor": "white",
           "zerolinewidth": 2
          }
         }
        },
        "xaxis": {
         "anchor": "y",
         "autorange": "reversed",
         "domain": [
          0,
          0.45
         ],
         "title": {
          "font": {
           "size": 14
          },
          "text": "Annual exceedance probability"
         },
         "type": "log"
        },
        "xaxis2": {
         "anchor": "y2",
         "domain": [
          0.55,
          1
         ]
        },
        "yaxis": {
         "anchor": "x",
         "domain": [
          0,
          1
         ],
         "title": {
          "font": {
           "size": 14
          },
          "text": "Damage as fraction of insurable value"
         }
        },
        "yaxis2": {
         "anchor": "x2",
         "domain": [
          0,
          1
         ]
        }
       }
      }
     },
     "metadata": {},
     "output_type": "display_data"
    }
   ],
   "source": [
    "import plotly.graph_objs as go\n",
    "from plotly.subplots import make_subplots\n",
    "\n",
    "exceedance_histo = wind_impact_histo[\"impact_exceedance\"]\n",
    "exceedance_ssp585 = wind_impact_ssp585[\"impact_exceedance\"]\n",
    "\n",
    "fig1 = make_subplots(rows=1, cols=2)\n",
    "fig1.add_trace(\n",
    "    go.Scatter(x=exceedance_histo[\"exceed_probabilities\"], y=exceedance_histo[\"values\"], name=\"baseline wind\"),\n",
    "    row=1,\n",
    "    col=1,\n",
    ")\n",
    "fig1.add_trace(\n",
    "    go.Scatter(x=exceedance_ssp585[\"exceed_probabilities\"], y=exceedance_ssp585[\"values\"], name=\"wind SSP585\"),\n",
    "    row=1,\n",
    "    col=1,\n",
    ")\n",
    "fig1.update_xaxes(\n",
    "    title=\"Annual exceedance probability\", title_font={\"size\": 14}, row=1, col=1, type=\"log\", autorange=\"reversed\"\n",
    ")\n",
    "fig1.update_yaxes(title=\"Damage as fraction of insurable value\", title_font={\"size\": 14}, row=1, col=1)"
   ]
  },
  {
   "cell_type": "markdown",
   "metadata": {},
   "source": [
    "### Making impacts actionable: score-based risk measures\n",
    "\n",
    "The main outputs of impact calculations are probability distributions of impacts, such as damage, but how do analysts make use of this data? Often it is desirable to categorize assets within a portfolio, for example identifying which are vulnerable to the physical effects of climate change and which are not. It may therefore be desirable to assign scores to assets, the score being meaningful for a particular analysis or work-flow. Two important points:\n",
    "\n",
    "1) These are _risk_ scores, not exposure scores. Pure exposure scores take into account only the exposure of an asset to climate hazards, typically as a result of its location, but do not say anything about vulnerability. This makes exposure scores unsuitable for many use-cases. For example an asset that is exposed to a hazard that becomes more intense under certain climate change scenarios may still be low risk (under that scenario) if it is not vulnerable to the hazard in question.\n",
    "\n",
    "2) The definition of scores are in principle unique to a particular type of user/analyst. The scores that are most useful for the manager of a portfolio of assets may be different to those that are useful to a lender providing finance for a new project. \n",
    "\n"
   ]
  },
  {
   "cell_type": "code",
   "execution_count": 32,
   "metadata": {},
   "outputs": [
    {
     "name": "stdout",
     "output_type": "stream",
     "text": [
      "The scores for the assets are: [1, 3].\n"
     ]
    }
   ],
   "source": [
    "asset_measures = response[\"risk_measures\"][\"measures_for_assets\"]\n",
    "\n",
    "\n",
    "class Key(NamedTuple):\n",
    "    hazard_type: str\n",
    "    measure_id: str\n",
    "    scenario_id: str\n",
    "    year: str\n",
    "\n",
    "\n",
    "asset_measures_dict = {}\n",
    "for i in asset_measures:\n",
    "    key = i[\"key\"]\n",
    "    asset_measures_dict[Key(key[\"hazard_type\"], key[\"measure_id\"], key[\"scenario_id\"], key[\"year\"])] = i\n",
    "\n",
    "wind_impact_scores = asset_measures_dict[Key(\"Wind\", \"measure_set_0\", \"ssp585\", \"2050\")]\n",
    "\n",
    "scores = wind_impact_scores[\"scores\"]\n",
    "print(f\"The scores for the assets are: {scores}.\")\n",
    "print(f\"The scores for the assets are: {scores}.\")"
   ]
  },
  {
   "cell_type": "code",
   "execution_count": 35,
   "metadata": {},
   "outputs": [
    {
     "name": "stdout",
     "output_type": "stream",
     "text": [
      "{'hazard_types': ['RiverineInundation', 'CoastalInundation', 'Wind'],\n",
      " 'underlying_measures': [{'description': '1-in-100 year loss as fraction of '\n",
      "                                         'asset insured value.',\n",
      "                          'label': '1-in-100 year annual loss.',\n",
      "                          'measure_id': 'measures_0'}],\n",
      " 'values': [{'description': 'Projected 1-in-100 year annual loss is more than '\n",
      "                            '10% and increases by more than 3% of asset value '\n",
      "                            'over historical baseline.',\n",
      "             'label': 'The asset is very significantly impacted and the impact '\n",
      "                      'will increase as a result of climate change.',\n",
      "             'value': 4},\n",
      "            {'description': 'Projected 1-in-100 year annual loss is more than '\n",
      "                            '3% and increases by more than 3% of asset value '\n",
      "                            'over historical baseline.',\n",
      "             'label': 'The asset is materially impacted and the impact will '\n",
      "                      'increase as a result of climate change.',\n",
      "             'value': 3},\n",
      "            {'description': 'Projected 1-in-100 year annual loss is more than '\n",
      "                            '3% but increases by less than 3% of asset value '\n",
      "                            'over historical baseline.',\n",
      "             'label': 'The asset is materially impacted but the impact will '\n",
      "                      'not significantly increase as a result of climate '\n",
      "                      'change.',\n",
      "             'value': 2},\n",
      "            {'description': 'Projected 1-in-100 year annual loss is less than '\n",
      "                            '3% of asset value.',\n",
      "             'label': 'No material impact.',\n",
      "             'value': 1},\n",
      "            {'description': 'No data.', 'label': 'No data.', 'value': 0}]}\n"
     ]
    }
   ],
   "source": [
    "import pprint as pp\n",
    "\n",
    "pp.pprint(response[\"risk_measures\"][\"score_based_measure_set_defn\"][\"score_definitions\"][\"measure_1\"])"
   ]
  },
  {
   "cell_type": "markdown",
   "metadata": {},
   "source": [
    "#### Running impacts through physrisk directly\n",
    "\n",
    "Just as for obtaining hazard indicators, it is possible to run the same calculations using physrisk directly, as long as the necessary API keys are present in a credentials.env file.\n",
    "\n",
    "For developers who are focussed on using existing hazard models but building new vulnerability models or risk models, it is desirable to be able to develop these components locally while making use of hazard APIs. This is functionality which will be provided in a future version."
   ]
  },
  {
   "cell_type": "code",
   "execution_count": null,
   "metadata": {},
   "outputs": [],
   "source": [
    "from dotenv import load_dotenv\n",
    "from physrisk.container import Container\n",
    "\n",
    "load_dotenv(\"../../credentials.env\")\n",
    "# the container is a dependency injection container, which allows the calculation to be configured to a particular use-case\n",
    "container = Container()\n",
    "# the requester is used to run calculations using the API. At this point, we can of course debug into the code and modify as required.\n",
    "requester = container.requester()\n",
    "result = requester.get(request_id=\"get_asset_impact\", request_dict=request)"
   ]
  }
 ],
 "metadata": {
  "kernelspec": {
   "display_name": ".venv",
   "language": "python",
   "name": "python3"
  },
  "language_info": {
   "codemirror_mode": {
    "name": "ipython",
    "version": 3
   },
   "file_extension": ".py",
   "mimetype": "text/x-python",
   "name": "python",
   "nbconvert_exporter": "python",
   "pygments_lexer": "ipython3",
   "version": "3.10.13"
  }
 },
 "nbformat": 4,
 "nbformat_minor": 2
}
