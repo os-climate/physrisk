{
 "cells": [
  {
   "cell_type": "code",
   "execution_count": 1,
   "source": [
    "import rasterio\r\n",
    "import numpy as np\r\n",
    "\r\n",
    "path = r\"C:/Users/joemo/Code/Repos/WRI-EBRD-Flood-Module/data_1/inuncoast_rcp8p5_wtsub_2080_rp0100_0.tif\"\r\n",
    "\r\n",
    "dataset = rasterio.open(path)\r\n",
    "\r\n"
   ],
   "outputs": [],
   "metadata": {}
  },
  {
   "cell_type": "code",
   "execution_count": 2,
   "source": [
    "dataset.profile"
   ],
   "outputs": [
    {
     "output_type": "execute_result",
     "data": {
      "text/plain": [
       "{'driver': 'GTiff', 'dtype': 'float32', 'nodata': -9999.0, 'width': 43200, 'height': 21600, 'count': 1, 'crs': CRS.from_epsg(4326), 'transform': Affine(0.008333333333333333, 0.0, -180.0,\n",
       "       0.0, -0.008333333333333333, 90.0), 'tiled': False, 'compress': 'lzw', 'interleave': 'band'}"
      ]
     },
     "metadata": {},
     "execution_count": 2
    }
   ],
   "metadata": {}
  },
  {
   "cell_type": "code",
   "execution_count": 8,
   "source": [
    "print(dataset.colorinterp[0])\r\n",
    "print(dataset.width)\r\n",
    "print(dataset.height)\r\n",
    "print(dataset.dtypes)\r\n",
    "print(dataset.crs)\r\n",
    "# \"EPSG 32612\"?"
   ],
   "outputs": [
    {
     "output_type": "stream",
     "name": "stdout",
     "text": [
      "ColorInterp.gray\n",
      "43200\n",
      "21600\n",
      "('float32',)\n",
      "EPSG:4326\n"
     ]
    }
   ],
   "metadata": {}
  },
  {
   "cell_type": "code",
   "execution_count": 2,
   "source": [
    "band1 = dataset.read(1)"
   ],
   "outputs": [],
   "metadata": {}
  },
  {
   "cell_type": "code",
   "execution_count": 3,
   "source": [
    "np.multiply(band1, 255.0 / 5.0 , out=band1, casting='unsafe')"
   ],
   "outputs": [
    {
     "output_type": "execute_result",
     "data": {
      "text/plain": [
       "array([[-509949., -509949., -509949., ..., -509949., -509949., -509949.],\n",
       "       [-509949., -509949., -509949., ..., -509949., -509949., -509949.],\n",
       "       [-509949., -509949., -509949., ..., -509949., -509949., -509949.],\n",
       "       ...,\n",
       "       [-509949., -509949., -509949., ..., -509949., -509949., -509949.],\n",
       "       [-509949., -509949., -509949., ..., -509949., -509949., -509949.],\n",
       "       [-509949., -509949., -509949., ..., -509949., -509949., -509949.]],\n",
       "      dtype=float32)"
      ]
     },
     "metadata": {},
     "execution_count": 3
    }
   ],
   "metadata": {}
  },
  {
   "cell_type": "code",
   "execution_count": 4,
   "source": [
    "mask = (band1 == -9999.0)\r\n",
    "band1[mask] = 0.0\r\n",
    "np.multiply(subset, 255.0 / 5.0 , out=subset, casting='unsafe')"
   ],
   "outputs": [],
   "metadata": {}
  },
  {
   "cell_type": "code",
   "execution_count": 6,
   "source": [
    "np.array([255.0, 256.0, 300.0]).astype(np.uint8)"
   ],
   "outputs": [
    {
     "output_type": "execute_result",
     "data": {
      "text/plain": [
       "array([255,   0,  44], dtype=uint8)"
      ]
     },
     "metadata": {},
     "execution_count": 6
    }
   ],
   "metadata": {}
  },
  {
   "cell_type": "code",
   "execution_count": 1,
   "source": [
    "from matplotlib import pyplot as plt\r\n",
    "import os,json\r\n",
    "import seaborn as sns\r\n",
    "import numpy as np\r\n",
    "import rasterio\r\n",
    "\r\n",
    "file_name = 'inunriver_rcp8p5_MIROC-ESM-CHEM_2080_rp01000.tif'\r\n",
    "#file_name = 'inunriver_rcp8p5_MIROC-ESM-CHEM_2080_rp00100.tif'\r\n",
    "#file_name = 'inunriver_rcp8p5_MIROC-ESM-CHEM_2080_rp00010.tif'\r\n",
    "directory = r\"C:/Users/joemo/Code/Repos/WRI-EBRD-Flood-Module/data_1/\"\r\n",
    "colormap_type = 'fc3_'\r\n",
    "path = os.path.join(directory, file_name)\r\n",
    "max_intensity = 2.0 # 2 metres for inundation\r\n",
    "    \r\n",
    "print(\"Creating colour map\")\r\n",
    "orig_map = sns.color_palette(\"flare\", as_cmap=True) #  plt.get_cmap(\"Reds\") as altnerative\r\n",
    "map = {}\r\n",
    "map_for_json = {}\r\n",
    "reds = np.zeros(256)\r\n",
    "greens = np.zeros(256)\r\n",
    "blues = np.zeros(256)\r\n",
    "a = np.zeros(256)\r\n",
    "for i in range(256):\r\n",
    "    cols = (np.array(orig_map(i)) * 255).astype(np.uint8)\r\n",
    "    map[i] = (cols[0], cols[1], cols[2], 200)\r\n",
    "    map_for_json[i] = (int(cols[0]), int(cols[1]), int(cols[2]), 200)\r\n",
    "    reds[i] = cols[0]\r\n",
    "    greens[i] = cols[1]\r\n",
    "    blues[i] = cols[2]\r\n",
    "    a[i] = 200\r\n",
    "map[0] = map[1] = ( 255, 255, 255, 0 )\r\n",
    "map_for_json[0] = map_for_json[1] = ( 255, 255, 255, 0 ) # no data and zero are transparent\r\n",
    "a[0] = a[1] = 0\r\n",
    "\r\n",
    "with open(os.path.join(directory, 'colormap_' + file_name.split('.')[0] + '.json'), 'w') as f:\r\n",
    "    colormap_info = json.dumps({ 'colormap': map_for_json,\r\n",
    "        'nodata': { 'color_index':0 },\r\n",
    "        'min': { 'data': 0.0, 'color_index':1 },\r\n",
    "        'max': { 'data': 2.0, 'color_index':255 }\r\n",
    "    })\r\n",
    "    f.writelines(colormap_info)\r\n",
    "\r\n",
    "with rasterio.open(path) as src:\r\n",
    "    print(\"Reading\")\r\n",
    "    data = src.read(1)\r\n",
    "\r\n",
    "    #subset = np.copy(data[5000:7000, 22000:24000])\r\n",
    "    #profile['width'] = 1000\r\n",
    "    #profile['height'] = 1000\r\n",
    "    #plt.imshow(subset)\r\n",
    "\r\n",
    "    print(\"Converting\")    \r\n",
    "    mask = (data < 0) # == -9999.0 is alternative\r\n",
    "    mask2 = (data > max_intensity)\r\n",
    "    \r\n",
    "    np.multiply(data, 254.0 / max_intensity , out=data, casting='unsafe')\r\n",
    "    np.add(data, 1.0, out=data, casting='unsafe') # np.clip seems a bit slow so we do not use\r\n",
    "\r\n",
    "    # 0 is no data\r\n",
    "    # 1 is zero\r\n",
    "    # 255 is max intensity\r\n",
    "\r\n",
    "    result = data.astype(np.uint8, casting='unsafe', copy=False)\r\n",
    "    \r\n",
    "    result[mask] = 0\r\n",
    "    result[mask2] = 255\r\n",
    "\r\n",
    "    profile = src.profile\r\n",
    "    profile['dtype'] = 'uint8'\r\n",
    "    profile['nodata'] = 0\r\n",
    "    profile['count'] = 4\r\n",
    "\r\n",
    "    path_out = os.path.join(directory, colormap_type + file_name) \r\n",
    "    \r\n",
    "    print(\"Writing\")\r\n",
    "    with rasterio.open(path_out, 'w', **profile) as dst:\r\n",
    "        #dst.colorinterp = [ ColorInterp.red, ColorInterp.green, ColorInterp.blue ]\r\n",
    "        #dst.write(result, indexes=1)\r\n",
    "        #dst.write_colormap(1, map)\r\n",
    "        print(\"Writing R 1/4\")\r\n",
    "        dst.write(reds[result], 1)\r\n",
    "        print(\"Writing G 2/4\")\r\n",
    "        dst.write(greens[result], 2)\r\n",
    "        print(\"Writing B 3/4\")\r\n",
    "        dst.write(blues[result], 3)\r\n",
    "        print(\"Writing A 4/4\")\r\n",
    "        dst.write(a[result], 4)\r\n",
    "\r\n",
    "print(\"Done\")"
   ],
   "outputs": [
    {
     "output_type": "stream",
     "name": "stdout",
     "text": [
      "Creating colour map\n",
      "Reading\n",
      "Converting\n",
      "Writing\n",
      "Writing R 1/4\n",
      "Writing G 2/4\n",
      "Writing B 3/4\n",
      "Writing A 4/4\n",
      "Done\n"
     ]
    }
   ],
   "metadata": {}
  },
  {
   "cell_type": "code",
   "execution_count": 5,
   "source": [
    "import numpy as np\r\n",
    "a = np.array([0, 1, 2, 3, 4, 5])\r\n",
    "\r\n",
    "b = np.array([[0, 0], [1, 3]])\r\n",
    "\r\n",
    "print(a[b])\r\n"
   ],
   "outputs": [
    {
     "output_type": "stream",
     "name": "stdout",
     "text": [
      "[[0 0]\n",
      " [1 3]]\n"
     ]
    }
   ],
   "metadata": {}
  },
  {
   "cell_type": "code",
   "execution_count": 12,
   "source": [
    "#import seaborn as sns\r\n",
    "\r\n",
    "#cmap = sns.color_palette(\"light:b\", as_cmap=True)\r\n",
    "\r\n",
    "map = plt.get_cmap(\"Reds\")\r\n",
    "\r\n",
    "map2 = {}\r\n",
    "for i in range(256):\r\n",
    "    cols = (np.array(map(i)) * 255).astype(np.uint8)\r\n",
    "    #print(cols)\r\n",
    "    map2[i] = (cols[0], cols[1], cols[3], 100)\r\n",
    "#for i in range(0, 256):\r\n",
    "#    map(i) * 255\r\n",
    "print(map2)"
   ],
   "outputs": [
    {
     "output_type": "stream",
     "name": "stdout",
     "text": [
      "{0: (255, 245, 255, 100), 1: (254, 244, 255, 100), 2: (254, 243, 255, 100), 3: (254, 243, 255, 100), 4: (254, 242, 255, 100), 5: (254, 241, 255, 100), 6: (254, 241, 255, 100), 7: (254, 240, 255, 100), 8: (254, 239, 255, 100), 9: (254, 239, 255, 100), 10: (254, 238, 255, 100), 11: (254, 237, 255, 100), 12: (254, 237, 255, 100), 13: (254, 236, 255, 100), 14: (254, 235, 255, 100), 15: (254, 235, 255, 100), 16: (254, 234, 255, 100), 17: (254, 233, 255, 100), 18: (254, 233, 255, 100), 19: (254, 232, 255, 100), 20: (254, 231, 255, 100), 21: (254, 231, 255, 100), 22: (254, 230, 255, 100), 23: (254, 229, 255, 100), 24: (254, 229, 255, 100), 25: (254, 228, 255, 100), 26: (254, 227, 255, 100), 27: (254, 227, 255, 100), 28: (254, 226, 255, 100), 29: (254, 225, 255, 100), 30: (254, 225, 255, 100), 31: (254, 224, 255, 100), 32: (253, 223, 255, 100), 33: (253, 222, 255, 100), 34: (253, 221, 255, 100), 35: (253, 220, 255, 100), 36: (253, 219, 255, 100), 37: (253, 218, 255, 100), 38: (253, 216, 255, 100), 39: (253, 215, 255, 100), 40: (253, 214, 255, 100), 41: (253, 213, 255, 100), 42: (253, 212, 255, 100), 43: (253, 211, 255, 100), 44: (253, 209, 255, 100), 45: (253, 208, 255, 100), 46: (253, 207, 255, 100), 47: (253, 206, 255, 100), 48: (252, 205, 255, 100), 49: (252, 204, 255, 100), 50: (252, 202, 255, 100), 51: (252, 201, 255, 100), 52: (252, 200, 255, 100), 53: (252, 199, 255, 100), 54: (252, 198, 255, 100), 55: (252, 197, 255, 100), 56: (252, 195, 255, 100), 57: (252, 194, 255, 100), 58: (252, 193, 255, 100), 59: (252, 192, 255, 100), 60: (252, 191, 255, 100), 61: (252, 190, 255, 100), 62: (252, 189, 255, 100), 63: (252, 187, 255, 100), 64: (252, 186, 255, 100), 65: (252, 185, 255, 100), 66: (252, 184, 255, 100), 67: (252, 182, 255, 100), 68: (252, 181, 255, 100), 69: (252, 180, 255, 100), 70: (252, 178, 255, 100), 71: (252, 177, 255, 100), 72: (252, 176, 255, 100), 73: (252, 175, 255, 100), 74: (252, 173, 255, 100), 75: (252, 172, 255, 100), 76: (252, 171, 255, 100), 77: (252, 169, 255, 100), 78: (252, 168, 255, 100), 79: (252, 167, 255, 100), 80: (252, 166, 255, 100), 81: (252, 164, 255, 100), 82: (252, 163, 255, 100), 83: (252, 162, 255, 100), 84: (252, 160, 255, 100), 85: (252, 159, 255, 100), 86: (252, 158, 255, 100), 87: (252, 157, 255, 100), 88: (252, 155, 255, 100), 89: (252, 154, 255, 100), 90: (252, 153, 255, 100), 91: (252, 151, 255, 100), 92: (252, 150, 255, 100), 93: (252, 149, 255, 100), 94: (252, 148, 255, 100), 95: (252, 146, 255, 100), 96: (251, 145, 255, 100), 97: (251, 144, 255, 100), 98: (251, 143, 255, 100), 99: (251, 141, 255, 100), 100: (251, 140, 255, 100), 101: (251, 139, 255, 100), 102: (251, 138, 255, 100), 103: (251, 136, 255, 100), 104: (251, 135, 255, 100), 105: (251, 134, 255, 100), 106: (251, 132, 255, 100), 107: (251, 131, 255, 100), 108: (251, 130, 255, 100), 109: (251, 129, 255, 100), 110: (251, 127, 255, 100), 111: (251, 126, 255, 100), 112: (251, 125, 255, 100), 113: (251, 124, 255, 100), 114: (251, 122, 255, 100), 115: (251, 121, 255, 100), 116: (251, 120, 255, 100), 117: (251, 119, 255, 100), 118: (251, 117, 255, 100), 119: (251, 116, 255, 100), 120: (251, 115, 255, 100), 121: (251, 114, 255, 100), 122: (251, 112, 255, 100), 123: (251, 111, 255, 100), 124: (251, 110, 255, 100), 125: (251, 109, 255, 100), 126: (251, 107, 255, 100), 127: (251, 106, 255, 100), 128: (250, 105, 255, 100), 129: (250, 103, 255, 100), 130: (250, 102, 255, 100), 131: (249, 100, 255, 100), 132: (249, 99, 255, 100), 133: (248, 97, 255, 100), 134: (248, 96, 255, 100), 135: (248, 94, 255, 100), 136: (247, 93, 255, 100), 137: (247, 91, 255, 100), 138: (247, 90, 255, 100), 139: (246, 89, 255, 100), 140: (246, 87, 255, 100), 141: (245, 86, 255, 100), 142: (245, 84, 255, 100), 143: (245, 83, 255, 100), 144: (244, 81, 255, 100), 145: (244, 80, 255, 100), 146: (244, 78, 255, 100), 147: (243, 77, 255, 100), 148: (243, 75, 255, 100), 149: (242, 74, 255, 100), 150: (242, 72, 255, 100), 151: (242, 71, 255, 100), 152: (241, 69, 255, 100), 153: (241, 68, 255, 100), 154: (241, 66, 255, 100), 155: (240, 65, 255, 100), 156: (240, 63, 255, 100), 157: (239, 62, 255, 100), 158: (239, 61, 255, 100), 159: (239, 59, 255, 100), 160: (238, 58, 255, 100), 161: (237, 57, 255, 100), 162: (236, 56, 255, 100), 163: (234, 55, 255, 100), 164: (233, 53, 255, 100), 165: (232, 52, 255, 100), 166: (231, 51, 255, 100), 167: (230, 50, 255, 100), 168: (229, 49, 255, 100), 169: (228, 48, 255, 100), 170: (227, 47, 255, 100), 171: (225, 46, 255, 100), 172: (224, 45, 255, 100), 173: (223, 44, 255, 100), 174: (222, 42, 255, 100), 175: (221, 41, 255, 100), 176: (220, 40, 255, 100), 177: (219, 39, 255, 100), 178: (217, 38, 255, 100), 179: (216, 37, 255, 100), 180: (215, 36, 255, 100), 181: (214, 35, 255, 100), 182: (213, 34, 255, 100), 183: (212, 33, 255, 100), 184: (211, 31, 255, 100), 185: (210, 30, 255, 100), 186: (208, 29, 255, 100), 187: (207, 28, 255, 100), 188: (206, 27, 255, 100), 189: (205, 26, 255, 100), 190: (204, 25, 255, 100), 191: (203, 24, 255, 100), 192: (202, 23, 255, 100), 193: (200, 23, 255, 100), 194: (199, 23, 255, 100), 195: (198, 22, 255, 100), 196: (197, 22, 255, 100), 197: (196, 22, 255, 100), 198: (194, 22, 255, 100), 199: (193, 21, 255, 100), 200: (192, 21, 255, 100), 201: (191, 21, 255, 100), 202: (190, 20, 255, 100), 203: (188, 20, 255, 100), 204: (187, 20, 255, 100), 205: (186, 20, 255, 100), 206: (185, 19, 255, 100), 207: (184, 19, 255, 100), 208: (183, 19, 255, 100), 209: (181, 18, 255, 100), 210: (180, 18, 255, 100), 211: (179, 18, 255, 100), 212: (178, 18, 255, 100), 213: (177, 17, 255, 100), 214: (175, 17, 255, 100), 215: (174, 17, 255, 100), 216: (173, 17, 255, 100), 217: (172, 16, 255, 100), 218: (171, 16, 255, 100), 219: (169, 16, 255, 100), 220: (168, 15, 255, 100), 221: (167, 15, 255, 100), 222: (166, 15, 255, 100), 223: (165, 15, 255, 100), 224: (163, 14, 255, 100), 225: (161, 14, 255, 100), 226: (159, 13, 255, 100), 227: (157, 13, 255, 100), 228: (155, 12, 255, 100), 229: (153, 12, 255, 100), 230: (151, 11, 255, 100), 231: (149, 11, 255, 100), 232: (147, 10, 255, 100), 233: (145, 10, 255, 100), 234: (143, 9, 255, 100), 235: (141, 9, 255, 100), 236: (139, 8, 255, 100), 237: (138, 8, 255, 100), 238: (136, 8, 255, 100), 239: (134, 7, 255, 100), 240: (132, 7, 255, 100), 241: (130, 6, 255, 100), 242: (128, 6, 255, 100), 243: (126, 5, 255, 100), 244: (124, 5, 255, 100), 245: (122, 4, 255, 100), 246: (120, 4, 255, 100), 247: (118, 3, 255, 100), 248: (116, 3, 255, 100), 249: (114, 2, 255, 100), 250: (112, 2, 255, 100), 251: (110, 1, 255, 100), 252: (108, 1, 255, 100), 253: (106, 0, 255, 100), 254: (104, 0, 255, 100), 255: (103, 0, 255, 100)}\n"
     ]
    }
   ],
   "metadata": {}
  },
  {
   "cell_type": "code",
   "execution_count": 3,
   "source": [
    "plt.imshow(result[5000:7000, 22000:24000], cmap='Reds')"
   ],
   "outputs": [
    {
     "output_type": "execute_result",
     "data": {
      "text/plain": [
       "<matplotlib.image.AxesImage at 0x25d19da87c8>"
      ]
     },
     "metadata": {},
     "execution_count": 3
    },
    {
     "output_type": "display_data",
     "data": {
      "image/png": "[encoded data removed]",
      "text/plain": [
       "<Figure size 432x288 with 1 Axes>"
      ]
     },
     "metadata": {
      "needs_background": "light"
     }
    }
   ],
   "metadata": {}
  },
  {
   "cell_type": "code",
   "execution_count": 2,
   "source": [
    "profile"
   ],
   "outputs": [
    {
     "output_type": "execute_result",
     "data": {
      "text/plain": [
       "{'driver': 'GTiff', 'dtype': 'uint8', 'nodata': -9999.0, 'width': 43200, 'height': 21600, 'count': 1, 'crs': CRS.from_epsg(4326), 'transform': Affine(0.008333333333333333, 0.0, -180.0,\n",
       "       0.0, -0.008333333333333333, 90.0), 'tiled': False, 'compress': 'lzw', 'interleave': 'band'}"
      ]
     },
     "metadata": {},
     "execution_count": 2
    }
   ],
   "metadata": {}
  },
  {
   "cell_type": "code",
   "execution_count": 73,
   "source": [
    "subset = np.copy(band1)"
   ],
   "outputs": [],
   "metadata": {}
  },
  {
   "cell_type": "code",
   "execution_count": null,
   "source": [
    "sub"
   ],
   "outputs": [],
   "metadata": {}
  },
  {
   "cell_type": "code",
   "execution_count": 65,
   "source": [
    "print(subset[330:340, 1130:1140])"
   ],
   "outputs": [
    {
     "output_type": "stream",
     "name": "stdout",
     "text": [
      "[[2.1782455  2.7291863  3.010119   3.2976882  3.505496   3.1634252\n",
      "  3.0282152  2.7190423  3.4099503  3.4220428 ]\n",
      " [2.427332   2.744678   3.112025   3.208474   3.2851362  2.456972\n",
      "  0.9250968  0.4392444  1.729346   1.1126347 ]\n",
      " [2.6017573  3.250398   3.6256695  3.207587   3.0409782  0.7688029\n",
      "  0.         0.         0.         0.        ]\n",
      " [4.032531   3.6250775  1.5904679  1.1194212  0.4602909  0.\n",
      "  0.         0.         0.         0.        ]\n",
      " [0.21700811 0.         0.         1.1597266  0.         0.\n",
      "  0.         0.         0.         0.        ]\n",
      " [1.8480079  2.399961   0.         0.         0.         0.\n",
      "  0.         0.         0.         0.        ]\n",
      " [0.         0.         0.         0.         0.         0.\n",
      "  0.         0.         0.         0.        ]\n",
      " [0.         0.         0.         0.         0.         0.\n",
      "  0.         0.         0.         0.        ]\n",
      " [0.         0.         0.         0.         0.         0.\n",
      "  0.         0.         0.         0.        ]\n",
      " [0.         0.         0.         0.         0.         0.\n",
      "  0.         0.         0.         0.        ]]\n"
     ]
    }
   ],
   "metadata": {}
  },
  {
   "cell_type": "code",
   "execution_count": 66,
   "source": [
    "print(subset[330:340, 1130:1140].astype(np.int8))"
   ],
   "outputs": [
    {
     "output_type": "stream",
     "name": "stdout",
     "text": [
      "[[2 2 3 3 3 3 3 2 3 3]\n",
      " [2 2 3 3 3 2 0 0 1 1]\n",
      " [2 3 3 3 3 0 0 0 0 0]\n",
      " [4 3 1 1 0 0 0 0 0 0]\n",
      " [0 0 0 1 0 0 0 0 0 0]\n",
      " [1 2 0 0 0 0 0 0 0 0]\n",
      " [0 0 0 0 0 0 0 0 0 0]\n",
      " [0 0 0 0 0 0 0 0 0 0]\n",
      " [0 0 0 0 0 0 0 0 0 0]\n",
      " [0 0 0 0 0 0 0 0 0 0]]\n"
     ]
    }
   ],
   "metadata": {}
  },
  {
   "cell_type": "code",
   "execution_count": 49,
   "source": [
    "map = plt.get_cmap(\"Blues\")\r\n",
    "#map(range(0,255))\r\n",
    "\r\n",
    "map(255)"
   ],
   "outputs": [
    {
     "output_type": "execute_result",
     "data": {
      "text/plain": [
       "(0.03137254901960784, 0.18823529411764706, 0.4196078431372549, 1.0)"
      ]
     },
     "metadata": {},
     "execution_count": 49
    }
   ],
   "metadata": {}
  },
  {
   "cell_type": "code",
   "execution_count": 14,
   "source": [
    "dataset.nodatavals\r\n",
    "\r\n",
    "#band1[5000:5001, 20000:20001]"
   ],
   "outputs": [
    {
     "output_type": "execute_result",
     "data": {
      "text/plain": [
       "(-9999.0,)"
      ]
     },
     "metadata": {},
     "execution_count": 14
    }
   ],
   "metadata": {}
  },
  {
   "cell_type": "code",
   "execution_count": 34,
   "source": [
    "dataset.colorinterp[0]"
   ],
   "outputs": [
    {
     "output_type": "execute_result",
     "data": {
      "text/plain": [
       "<ColorInterp.gray: 1>"
      ]
     },
     "metadata": {},
     "execution_count": 34
    }
   ],
   "metadata": {}
  },
  {
   "cell_type": "code",
   "execution_count": null,
   "source": [
    "file = \"\"\r\n",
    "with rasterio.open(file, 'w') as f:\r\n",
    "    f.write(data.astype(np.int8), 1)\r\n",
    "    f.write_colormap(\r\n",
    "        1, {\r\n",
    "            0: (255, 0, 0, 255),\r\n",
    "            255: (0, 0, 255, 255) })"
   ],
   "outputs": [],
   "metadata": {}
  },
  {
   "cell_type": "code",
   "execution_count": null,
   "source": [
    "with rasterio.open(name,'w',**profile) as dst:\r\n",
    "    dst.write(data.astype(np.float32), 1)\r\n",
    "    dst.write_colormap(\r\n",
    "        1, {\r\n",
    "            0: (255, 0, 0, 255),\r\n",
    "            255: (0, 0, 255, 255) })\r\n",
    "\r\n",
    "with rasterio.open(name) as dst:\r\n",
    "    cmap = dst.colormap(1)\r\n",
    "    print (cmp)"
   ],
   "outputs": [],
   "metadata": {}
  }
 ],
 "metadata": {
  "orig_nbformat": 4,
  "language_info": {
   "name": "python",
   "version": "3.7.9",
   "mimetype": "text/x-python",
   "codemirror_mode": {
    "name": "ipython",
    "version": 3
   },
   "pygments_lexer": "ipython3",
   "nbconvert_exporter": "python",
   "file_extension": ".py"
  },
  "kernelspec": {
   "name": "python3",
   "display_name": "Python 3.7.9 64-bit"
  },
  "interpreter": {
   "hash": "b1242c21bec528c7315eb52ee88c05dce38c97c1e971b2abd9e56f88cd13fcd5"
  }
 },
 "nbformat": 4,
 "nbformat_minor": 2
}