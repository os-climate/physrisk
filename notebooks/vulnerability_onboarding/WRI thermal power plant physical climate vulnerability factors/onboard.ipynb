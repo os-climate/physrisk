{
 "cells": [
  {
   "cell_type": "markdown",
   "metadata": {},
   "source": [
    "## World Resources Institute's thermal power plant physical climate vulnerability factors\n",
    "\n",
    "### CITATION\n",
    "Tianyi Luo, Lihuan Zhou, James Falzon, Yan Cheng, Giulia Christianson, Yili Wu and Amir Habchi, Assessing Physical Climate Risks for the European Bank for Reconstruction and Development's Power Generation Project Investment Portfolio, World Resources Institute, Working paper, doi:10.46830/wriwp.21.00060.\n",
    "\n",
    "### LINK\n",
    "https://www.wri.org/research/assessing-physical-climate-risks-european-bank-power-portfolio\n",
    "\n",
    "### NOTES\n",
    "Data from Table B1 in Appendix B converted into CSV format in raw.csv. Ingested into vulnerability model as standard json.\n"
   ]
  },
  {
   "cell_type": "code",
   "execution_count": 1,
   "metadata": {},
   "outputs": [],
   "source": [
    "import json, pandas\n",
    "\n",
    "data = {\"items\": []}\n",
    "\n",
    "df = pandas.read_csv(\"raw.csv\")\n",
    "df[\"Asset Type\"] = [\n",
    "    (x if pandas.isna(y) else (x + \"/\" + y)).replace(\" \", \"\")\n",
    "    for (x, y) in zip(df[\"Turbine Type\"], df[\"Cooling Technology\"])\n",
    "]\n",
    "df.drop(columns=[\"Turbine Type\", \"Cooling Technology\"], inplace=True)\n",
    "\n",
    "hazard_set = set(df[\"Hazard Type\"])\n",
    "for hazard_type in hazard_set:\n",
    "    selection = df.loc[df[\"Hazard Type\"] == hazard_type]\n",
    "    asset_set = set(selection[\"Asset Type\"])\n",
    "    for asset_type in asset_set:\n",
    "        sub_selection = selection.loc[selection[\"Asset Type\"] == asset_type]\n",
    "        threshold_set = set(sub_selection[\"Threshold Type\"])\n",
    "        for threshold_type in threshold_set:\n",
    "            item = sub_selection.loc[sub_selection[\"Threshold Type\"] == threshold_type]\n",
    "            if (\n",
    "                len(set(item[\"Threshold Unit\"])) == 1\n",
    "                and len(set(item[\"Vulnerability Type\"])) == 1\n",
    "                and len(set(item[\"Vulnerability Unit\"])) == 1\n",
    "            ):\n",
    "                data[\"items\"].append(\n",
    "                    {\n",
    "                        \"asset_type\": asset_type.replace(\" \", \"\"),\n",
    "                        \"event_type\": hazard_type.replace(\" \", \"\"),\n",
    "                        \"location\": \"Global\",\n",
    "                        \"intensity\": list(item[\"Threshold\"].values),\n",
    "                        \"intensity_units\": item[\"Threshold Unit\"].values[0].replace(\" \", \"\"),\n",
    "                        \"impact_type\": item[\"Vulnerability Type\"].values[0].replace(\" \", \"\"),\n",
    "                        \"impact_units\": item[\"Vulnerability Unit\"].values[0].replace(\" \", \"\"),\n",
    "                        \"impact_mean\": list(item[\"Vulnerability\"].values),\n",
    "                        \"impact_std\": [],\n",
    "                    }\n",
    "                )\n",
    "\n",
    "with open(\"WRI thermal power plant physical climate vulnerability factors.json\", \"w\") as f:\n",
    "    vulnerability_json = json.dumps(data, sort_keys=True, indent=4)\n",
    "    f.write(vulnerability_json)"
   ]
  }
 ],
 "metadata": {
  "interpreter": {
   "hash": "916dbcbb3f70747c44a77c7bcd40155683ae19c65e1c03b4aa3499c5328201f1"
  },
  "kernelspec": {
   "display_name": "Python 3.8.10 64-bit",
   "language": "python",
   "name": "python3"
  },
  "language_info": {
   "codemirror_mode": {
    "name": "ipython",
    "version": 3
   },
   "file_extension": ".py",
   "mimetype": "text/x-python",
   "name": "python",
   "nbconvert_exporter": "python",
   "pygments_lexer": "ipython3",
   "version": "3.8.2"
  },
  "orig_nbformat": 4
 },
 "nbformat": 4,
 "nbformat_minor": 2
}
