{
 "cells": [
  {
   "cell_type": "markdown",
   "metadata": {},
   "source": [
    "## Regional tropical cyclone impact functions\n",
    "\n",
    "### CITATION\n",
    "Eberenz S, Lüthi S, Bresch DN. Regional tropical cyclone impact functions for globally consistent risk assessments. Natural Hazards and Earth System Sciences. 2021 Jan 29;21(1):393-415.\n",
    "\n",
    "### LINK\n",
    "https://nhess.copernicus.org/articles/21/393/2021/\n",
    "\n",
    "### NOTES\n",
    "The data is used to provide a 'generic asset' vulnerability distribution. The fitted results are copied into Table_A2_Impact_Function_Slope.csv. \n",
    "(a) the global default impact function (uncalibrated), (b) calibrated by optimizing RMSF, and (c) calibrated by optimizing TDR. The regions NA1 to WP4 are defined in Table A1. The row “combined” summarizes results for all regions combined based on the regionalized calibration; the row “global calibration” is based on one unified global calibration based on all matched TC 473 events. RMSF: root-mean-squared fraction; TDR: total damage ratio.\n",
    "\n"
   ]
  },
  {
   "cell_type": "code",
   "execution_count": 14,
   "metadata": {},
   "outputs": [
    {
     "name": "stdout",
     "output_type": "stream",
     "text": [
      "['NA1' 'NA2' 'NI' 'OC' 'SI' 'WP1' 'WP2' 'WP3' 'WP4' 'Combined'\n",
      " 'Global calibration']\n",
      "['59.6' '86' '58.7' '49.7' '46.8' '56.7' '84.7' '80.2' '135.6' '–' '73.4']\n"
     ]
    }
   ],
   "source": [
    "import numpy as np\n",
    "import pandas as pd\n",
    "import matplotlib.pyplot as plt\n",
    "\n",
    "df = pd.read_csv(\"Table_A2_Impact_Function_Slope.csv\")\n",
    "region = df[\"region\"].to_numpy()\n",
    "v_half_by_region = df[\"vhalf_b\"].to_numpy()\n",
    "print(region)\n",
    "print(v_half_by_region)"
   ]
  },
  {
   "cell_type": "code",
   "execution_count": 16,
   "metadata": {},
   "outputs": [
    {
     "name": "stdout",
     "output_type": "stream",
     "text": [
      "[ 50.55 188.1 ]\n"
     ]
    },
    {
     "data": {
      "image/png": "[encoded data removed]",
      "text/plain": [
       "<Figure size 432x288 with 1 Axes>"
      ]
     },
     "metadata": {
      "needs_background": "light"
     },
     "output_type": "display_data"
    }
   ],
   "source": [
    "df = pd.read_csv(\"Table_S2_V_half_individual_fitting_per_event.csv\")\n",
    "v_half = df[df.region == \"WP2\"][\"v_half_fitted [m/s]\"]\n",
    "\n",
    "plt.hist(v_half)\n",
    "print(np.quantile(v_half, [0.25, 0.75]))"
   ]
  },
  {
   "cell_type": "code",
   "execution_count": 1,
   "metadata": {},
   "outputs": [
    {
     "data": {
      "text/plain": [
       "[<matplotlib.lines.Line2D at 0x127a555b0>]"
      ]
     },
     "execution_count": 1,
     "metadata": {},
     "output_type": "execute_result"
    },
    {
     "data": {
      "image/png": "[encoded data removed]",
      "text/plain": [
       "<Figure size 432x288 with 1 Axes>"
      ]
     },
     "metadata": {
      "needs_background": "light"
     },
     "output_type": "display_data"
    }
   ],
   "source": [
    "def vul(v, v_half):\n",
    "    v_thresh = 25.7\n",
    "    # v_half = 135.6 # wp4 74.7 135.6 190.5\n",
    "    vn = np.where(v > v_thresh, v - v_thresh, 0) / (v_half - v_thresh)\n",
    "    f = vn**3 / (1 + vn**3)\n",
    "    return f\n",
    "\n",
    "\n",
    "v = np.arange(0, 90, 10)\n",
    "fig, ax = plt.subplots()\n",
    "# for item in v_half.to_numpy():\n",
    "#    ax.plot(v, vul(v, item))\n",
    "ax.plot(v, vul(v, 74.7))\n",
    "ax.plot(v, vul(v, 190.5))\n",
    "ax.plot(v, vul(v, 135.6))"
   ]
  }
 ],
 "metadata": {
  "kernelspec": {
   "display_name": "physrisk-og59E7IU",
   "language": "python",
   "name": "python3"
  },
  "language_info": {
   "codemirror_mode": {
    "name": "ipython",
    "version": 3
   },
   "file_extension": ".py",
   "mimetype": "text/x-python",
   "name": "python",
   "nbconvert_exporter": "python",
   "pygments_lexer": "ipython3",
   "version": "3.8.13"
  },
  "orig_nbformat": 4
 },
 "nbformat": 4,
 "nbformat_minor": 2
}
