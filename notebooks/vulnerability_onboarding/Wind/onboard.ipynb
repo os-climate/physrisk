{
 "cells": [
  {
   "cell_type": "markdown",
   "metadata": {},
   "source": [
    "## Regional tropical cyclone impact functions\n",
    "\n",
    "### CITATION\n",
    "Eberenz S, Lüthi S, Bresch DN. Regional tropical cyclone impact functions for globally consistent risk assessments. Natural Hazards and Earth System Sciences. 2021 Jan 29;21(1):393-415.\n",
    "\n",
    "### LINK\n",
    "https://nhess.copernicus.org/articles/21/393/2021/\n",
    "\n",
    "### NOTES\n",
    "The data is used to provide a 'generic asset' vulnerability distribution. The fitted results are copied into Table_A2_Impact_Function_Slope.csv. \n",
    "(a) the global default impact function (uncalibrated), (b) calibrated by optimizing RMSF, and (c) calibrated by optimizing TDR. The regions NA1 to WP4 are defined in Table A1. The row “combined” summarizes results for all regions combined based on the regionalized calibration; the row “global calibration” is based on one unified global calibration based on all matched TC 473 events. RMSF: root-mean-squared fraction; TDR: total damage ratio.\n",
    "\n"
   ]
  },
  {
   "cell_type": "code",
   "execution_count": 29,
   "metadata": {},
   "outputs": [
    {
     "name": "stdout",
     "output_type": "stream",
     "text": [
      "['NA1' 'NA2' 'NI' 'OC' 'SI' 'WP1' 'WP2' 'WP3' 'WP4' 'Combined'\n",
      " 'Global calibration']\n",
      "['59.6' '86' '58.7' '49.7' '46.8' '56.7' '84.7' '80.2' '135.6' '–' '73.4']\n"
     ]
    }
   ],
   "source": [
    "import json\n",
    "import numpy as np\n",
    "import pandas as pd\n",
    "\n",
    "df = pd.read_csv('Table_A2_Impact_Function_Slope.csv')\n",
    "region = df[\"region\"].to_numpy()\n",
    "vhalf = df[\"vhalf_b\"].to_numpy()\n",
    "\n",
    "\n",
    "print(region)\n",
    "print(vhalf)\n",
    "#df = pd.read_csv('Table_S2_V_half_individual_fitting_per_event.csv')\n",
    "#vhalf = df.where(df.region == \"WP2\").vhalf_fitted\n",
    "#region = df[\"region\"].to_numpy()\n",
    "#vhalf = df[\"vhalf_fitted\"].to_numpy()\n"
   ]
  },
  {
   "cell_type": "code",
   "execution_count": 16,
   "metadata": {},
   "outputs": [
    {
     "data": {
      "text/plain": [
       "(array([170., 103.,  61.,  36.,  34.,  10.,   8.,  15.,   8.,  28.]),\n",
       " array([ 25.8 ,  55.79,  85.78, 115.77, 145.76, 175.75, 205.74, 235.73,\n",
       "        265.72, 295.71, 325.7 ]),\n",
       " <BarContainer object of 10 artists>)"
      ]
     },
     "execution_count": 16,
     "metadata": {},
     "output_type": "execute_result"
    },
    {
     "data": {
      "image/png": "[encoded data removed]",
      "text/plain": [
       "<Figure size 432x288 with 1 Axes>"
      ]
     },
     "metadata": {
      "needs_background": "light"
     },
     "output_type": "display_data"
    }
   ],
   "source": [
    "v_half = df[\"v_half_fitted [m/s]\"]  #df[df.region == \"WP2\"][\"v_half_fitted [m/s]\"]\n",
    "\n",
    "import matplotlib.pyplot as plot\n",
    "plot.hist(v_half)"
   ]
  },
  {
   "cell_type": "code",
   "execution_count": 30,
   "metadata": {},
   "outputs": [
    {
     "name": "stdout",
     "output_type": "stream",
     "text": [
      "103.40930232558141\n",
      "[ 45.1 130.6]\n"
     ]
    }
   ],
   "source": [
    "print(v_half.mean())\n",
    "import numpy as np\n",
    "print(np.quantile(v_half, [0.25, 0.75]))"
   ]
  },
  {
   "cell_type": "code",
   "execution_count": null,
   "metadata": {},
   "outputs": [],
   "source": []
  },
  {
   "cell_type": "code",
   "execution_count": 31,
   "metadata": {},
   "outputs": [
    {
     "data": {
      "text/plain": [
       "[<matplotlib.lines.Line2D at 0x149f14b50>]"
      ]
     },
     "execution_count": 31,
     "metadata": {},
     "output_type": "execute_result"
    },
    {
     "data": {
      "image/png": "[encoded data removed]",
      "text/plain": [
       "<Figure size 432x288 with 1 Axes>"
      ]
     },
     "metadata": {
      "needs_background": "light"
     },
     "output_type": "display_data"
    }
   ],
   "source": [
    "import numpy as np\n",
    "import matplotlib.pyplot as plt\n",
    "\n",
    "def vul(v, v_half):\n",
    "    v_thresh = 25.7\n",
    "    #v_half = 135.6 # wp4 74.7 135.6 190.5\n",
    "    vn = np.where(v > v_thresh, v - v_thresh, 0) / (v_half - v_thresh)\n",
    "    f = vn**3 / (1 + vn**3)\n",
    "    return f\n",
    "\n",
    "v = np.arange(0, 90, 10)\n",
    "fig, ax = plt.subplots() \n",
    "#for item in v_half.to_numpy():\n",
    "#    ax.plot(v, vul(v, item))\n",
    "ax.plot(v, vul(v, 74.7))\n",
    "ax.plot(v, vul(v, 190.5))\n",
    "ax.plot(v, vul(v, 135.6))\n",
    "#ax.plot(v, vul(v, 100))\n",
    "#ax.plot(v, vul(v, 220))"
   ]
  },
  {
   "cell_type": "code",
   "execution_count": 24,
   "metadata": {},
   "outputs": [
    {
     "data": {
      "text/plain": [
       "(array([175.,  51.,  28.,  19.,  13.,  17.,  19.,  17.,  37.,  97.]),\n",
       " array([0.00149235, 0.10134311, 0.20119387, 0.30104464, 0.4008954 ,\n",
       "        0.50074616, 0.60059692, 0.70044769, 0.80029845, 0.90014921,\n",
       "        0.99999998]),\n",
       " <BarContainer object of 10 artists>)"
      ]
     },
     "execution_count": 24,
     "metadata": {},
     "output_type": "execute_result"
    },
    {
     "data": {
      "image/png": "[encoded data removed]",
      "text/plain": [
       "<Figure size 432x288 with 1 Axes>"
      ]
     },
     "metadata": {
      "needs_background": "light"
     },
     "output_type": "display_data"
    }
   ],
   "source": [
    "plt.hist([vul(60, item) for item in v_half.to_numpy()])"
   ]
  },
  {
   "cell_type": "code",
   "execution_count": 21,
   "metadata": {},
   "outputs": [
    {
     "data": {
      "text/plain": [
       "0       39.2\n",
       "1      106.8\n",
       "2       58.4\n",
       "3       70.1\n",
       "4       37.6\n",
       "       ...  \n",
       "468     58.9\n",
       "469    270.0\n",
       "470    325.7\n",
       "471    285.9\n",
       "472     44.1\n",
       "Name: v_half_fitted [m/s], Length: 473, dtype: float64"
      ]
     },
     "execution_count": 21,
     "metadata": {},
     "output_type": "execute_result"
    }
   ],
   "source": [
    "v_half"
   ]
  },
  {
   "cell_type": "code",
   "execution_count": null,
   "metadata": {},
   "outputs": [],
   "source": []
  }
 ],
 "metadata": {
  "kernelspec": {
   "display_name": "physrisk-og59E7IU",
   "language": "python",
   "name": "python3"
  },
  "language_info": {
   "codemirror_mode": {
    "name": "ipython",
    "version": 3
   },
   "file_extension": ".py",
   "mimetype": "text/x-python",
   "name": "python",
   "nbconvert_exporter": "python",
   "pygments_lexer": "ipython3",
   "version": "3.8.13"
  },
  "orig_nbformat": 4
 },
 "nbformat": 4,
 "nbformat_minor": 2
}
